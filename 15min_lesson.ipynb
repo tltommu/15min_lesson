{
 "cells": [
  {
   "cell_type": "markdown",
   "id": "39b9f47e",
   "metadata": {
    "papermill": {
     "duration": 0.006411,
     "end_time": "2025-05-06T13:13:53.431998",
     "exception": false,
     "start_time": "2025-05-06T13:13:53.425587",
     "status": "completed"
    },
    "tags": []
   },
   "source": [
    "## 📖 Part 0 - preface \n",
    "\n",
    "> \"There are two type of code block in this file, one is **markdown** and the other is **python**\"\n",
    "\n",
    "> \"The one that look fancier and doesn't have an execute button is **markdown**, it makes some information easier to read\"\n",
    "\n",
    ">\"The other one is **python** code block, it allows you to run python code.\""
   ]
  },
  {
   "cell_type": "markdown",
   "id": "7a029bb9",
   "metadata": {
    "papermill": {
     "duration": 0.005234,
     "end_time": "2025-05-06T13:13:53.442994",
     "exception": false,
     "start_time": "2025-05-06T13:13:53.437760",
     "status": "completed"
    },
    "tags": []
   },
   "source": [
    "## 🗣️ Part 1 – Introduction (1 min)\n",
    "\n",
    "> *\"Hi everyone! Today, we’re going to learn about something fundamental in programming — **variables, constants, and data types**. These are the building blocks for writing any program. Let's dive in!\"*\n",
    "\n"
   ]
  },
  {
   "cell_type": "markdown",
   "id": "5c5c1955",
   "metadata": {
    "papermill": {
     "duration": 0.006341,
     "end_time": "2025-05-06T13:13:53.454689",
     "exception": false,
     "start_time": "2025-05-06T13:13:53.448348",
     "status": "completed"
    },
    "tags": []
   },
   "source": [
    "## 🔹 Part 2 – Data Types (5 mins)\n",
    "\n",
    "Python has several built-in data types. Here are five key ones:\n",
    "\n",
    "| Type      | Example         | Description                            |\n",
    "| --------- | --------------- | -------------------------------------- |\n",
    "| Integer   | `10`, `-3`      | Whole numbers                          |\n",
    "| Double/Float| `3.14`, `-2.5`  | Also called floats; decimal values     |\n",
    "| String    | `\"Hello\"`       | Sequence of characters                 |\n",
    "| Character | `'A'`           | A single letter (just a 1-char string) |\n",
    "| Boolean   | `True`, `False` | True/False values                      |"
   ]
  },
  {
   "cell_type": "code",
   "execution_count": 1,
   "id": "5853d6aa",
   "metadata": {
    "execution": {
     "iopub.execute_input": "2025-05-06T13:13:53.467568Z",
     "iopub.status.busy": "2025-05-06T13:13:53.467141Z",
     "iopub.status.idle": "2025-05-06T13:13:53.475577Z",
     "shell.execute_reply": "2025-05-06T13:13:53.474679Z"
    },
    "papermill": {
     "duration": 0.01672,
     "end_time": "2025-05-06T13:13:53.477131",
     "exception": false,
     "start_time": "2025-05-06T13:13:53.460411",
     "status": "completed"
    },
    "tags": []
   },
   "outputs": [],
   "source": [
    "# Everything behind a \"#\" is a comment, people leave it to make the code more understandable.\n",
    "\n",
    "name3 = \"Jake\"        # string\n",
    "grade = 85           # integer\n",
    "percentage = 85.5    # double (float)\n",
    "passed = True        # boolean\n",
    "initial = 'J'        # character"
   ]
  },
  {
   "cell_type": "code",
   "execution_count": 2,
   "id": "5febf662",
   "metadata": {
    "execution": {
     "iopub.execute_input": "2025-05-06T13:13:53.489131Z",
     "iopub.status.busy": "2025-05-06T13:13:53.488827Z",
     "iopub.status.idle": "2025-05-06T13:13:53.494940Z",
     "shell.execute_reply": "2025-05-06T13:13:53.493989Z"
    },
    "papermill": {
     "duration": 0.014065,
     "end_time": "2025-05-06T13:13:53.496633",
     "exception": false,
     "start_time": "2025-05-06T13:13:53.482568",
     "status": "completed"
    },
    "tags": []
   },
   "outputs": [
    {
     "name": "stdout",
     "output_type": "stream",
     "text": [
      "Jake\n",
      "85\n",
      "85.5\n",
      "True\n",
      "J\n",
      "<class 'str'>\n",
      "<class 'int'>\n",
      "<class 'float'>\n",
      "<class 'bool'>\n",
      "<class 'str'>\n"
     ]
    }
   ],
   "source": [
    "print(name3) #print() is a function of python to produce an output.\n",
    "print(grade)\n",
    "print(percentage)\n",
    "print(passed)\n",
    "print(initial)\n",
    "\n",
    "print(type(name3)) # type() is a function that let you know the datatype of a variable.\n",
    "print(type(grade))\n",
    "print(type(percentage))\n",
    "print(type(passed))\n",
    "print(type(initial))"
   ]
  },
  {
   "cell_type": "markdown",
   "id": "2b78b2cb",
   "metadata": {
    "papermill": {
     "duration": 0.005884,
     "end_time": "2025-05-06T13:13:53.508042",
     "exception": false,
     "start_time": "2025-05-06T13:13:53.502158",
     "status": "completed"
    },
    "tags": []
   },
   "source": [
    "> 💡 In Python, we don’t need to declare the type — it figures it out for us! (Why do people say python code is slow?)\n",
    "\n",
    "> I have included how C# declare their datatypes at the C# reference section.\n",
    "---"
   ]
  },
  {
   "cell_type": "markdown",
   "id": "2fd58ff0",
   "metadata": {
    "papermill": {
     "duration": 0.005458,
     "end_time": "2025-05-06T13:13:53.519025",
     "exception": false,
     "start_time": "2025-05-06T13:13:53.513567",
     "status": "completed"
    },
    "tags": []
   },
   "source": [
    "## 🔹 Part 3 – Constants & Variables (3 mins)\n",
    "\n",
    "### ✅ What is a Variable?\n",
    "\n",
    "A **variable** is a named storage for data. You can **change its value** later in the code."
   ]
  },
  {
   "cell_type": "code",
   "execution_count": 3,
   "id": "11fc31b9",
   "metadata": {
    "execution": {
     "iopub.execute_input": "2025-05-06T13:13:53.531151Z",
     "iopub.status.busy": "2025-05-06T13:13:53.530838Z",
     "iopub.status.idle": "2025-05-06T13:13:53.535230Z",
     "shell.execute_reply": "2025-05-06T13:13:53.534302Z"
    },
    "papermill": {
     "duration": 0.012266,
     "end_time": "2025-05-06T13:13:53.536876",
     "exception": false,
     "start_time": "2025-05-06T13:13:53.524610",
     "status": "completed"
    },
    "tags": []
   },
   "outputs": [],
   "source": [
    "name = \"Tom\" # as mentioned above this is automatically declared as a string\n",
    "age = 17 # declared as an integer"
   ]
  },
  {
   "cell_type": "code",
   "execution_count": 4,
   "id": "775a51c2",
   "metadata": {
    "execution": {
     "iopub.execute_input": "2025-05-06T13:13:53.549167Z",
     "iopub.status.busy": "2025-05-06T13:13:53.548857Z",
     "iopub.status.idle": "2025-05-06T13:13:53.553650Z",
     "shell.execute_reply": "2025-05-06T13:13:53.552720Z"
    },
    "papermill": {
     "duration": 0.012572,
     "end_time": "2025-05-06T13:13:53.555089",
     "exception": false,
     "start_time": "2025-05-06T13:13:53.542517",
     "status": "completed"
    },
    "tags": []
   },
   "outputs": [
    {
     "name": "stdout",
     "output_type": "stream",
     "text": [
      "Tom\n",
      "17\n"
     ]
    }
   ],
   "source": [
    "print(name)\n",
    "print(age)"
   ]
  },
  {
   "cell_type": "markdown",
   "id": "0b96e225",
   "metadata": {
    "papermill": {
     "duration": 0.005227,
     "end_time": "2025-05-06T13:13:53.566231",
     "exception": false,
     "start_time": "2025-05-06T13:13:53.561004",
     "status": "completed"
    },
    "tags": []
   },
   "source": [
    "## Exercise 1: Variable exercise\n",
    "\n",
    "### Change the value of \"name\" and \"age\" in the below code block and print it out"
   ]
  },
  {
   "cell_type": "code",
   "execution_count": 5,
   "id": "7f112cac",
   "metadata": {
    "execution": {
     "iopub.execute_input": "2025-05-06T13:13:53.580115Z",
     "iopub.status.busy": "2025-05-06T13:13:53.579798Z",
     "iopub.status.idle": "2025-05-06T13:13:53.584320Z",
     "shell.execute_reply": "2025-05-06T13:13:53.583263Z"
    },
    "papermill": {
     "duration": 0.013506,
     "end_time": "2025-05-06T13:13:53.585879",
     "exception": false,
     "start_time": "2025-05-06T13:13:53.572373",
     "status": "completed"
    },
    "tags": []
   },
   "outputs": [],
   "source": [
    "# Write your code here"
   ]
  },
  {
   "cell_type": "markdown",
   "id": "a37f2ce0",
   "metadata": {
    "papermill": {
     "duration": 0.005174,
     "end_time": "2025-05-06T13:13:53.596681",
     "exception": false,
     "start_time": "2025-05-06T13:13:53.591507",
     "status": "completed"
    },
    "tags": []
   },
   "source": [
    "> 🧠 Think of variables like **labeled boxes**. You can put something inside, and even swap it out later."
   ]
  },
  {
   "cell_type": "markdown",
   "id": "6feb0ce7",
   "metadata": {
    "papermill": {
     "duration": 0.005493,
     "end_time": "2025-05-06T13:13:53.607545",
     "exception": false,
     "start_time": "2025-05-06T13:13:53.602052",
     "status": "completed"
    },
    "tags": []
   },
   "source": [
    "### 🔒 What is a Constant?\n",
    "\n",
    "A **constant** is a value that should **not change** once assigned. Python doesn’t enforce constants, but we **use ALL CAPS** to name them."
   ]
  },
  {
   "cell_type": "code",
   "execution_count": 6,
   "id": "638dc55d",
   "metadata": {
    "execution": {
     "iopub.execute_input": "2025-05-06T13:13:53.619914Z",
     "iopub.status.busy": "2025-05-06T13:13:53.619585Z",
     "iopub.status.idle": "2025-05-06T13:13:53.625063Z",
     "shell.execute_reply": "2025-05-06T13:13:53.624095Z"
    },
    "papermill": {
     "duration": 0.013706,
     "end_time": "2025-05-06T13:13:53.626675",
     "exception": false,
     "start_time": "2025-05-06T13:13:53.612969",
     "status": "completed"
    },
    "tags": []
   },
   "outputs": [],
   "source": [
    "PI = 3.14159"
   ]
  },
  {
   "cell_type": "markdown",
   "id": "c28918a6",
   "metadata": {
    "papermill": {
     "duration": 0.005129,
     "end_time": "2025-05-06T13:13:53.637280",
     "exception": false,
     "start_time": "2025-05-06T13:13:53.632151",
     "status": "completed"
    },
    "tags": []
   },
   "source": [
    "> 📌 *\"In real life, PI doesn’t change. That’s why we treat it as a constant.\"*\n",
    "\n",
    "---"
   ]
  },
  {
   "cell_type": "code",
   "execution_count": 7,
   "id": "082a8f34",
   "metadata": {
    "execution": {
     "iopub.execute_input": "2025-05-06T13:13:53.649477Z",
     "iopub.status.busy": "2025-05-06T13:13:53.649122Z",
     "iopub.status.idle": "2025-05-06T13:13:53.653772Z",
     "shell.execute_reply": "2025-05-06T13:13:53.652957Z"
    },
    "papermill": {
     "duration": 0.012577,
     "end_time": "2025-05-06T13:13:53.655229",
     "exception": false,
     "start_time": "2025-05-06T13:13:53.642652",
     "status": "completed"
    },
    "tags": []
   },
   "outputs": [
    {
     "name": "stdout",
     "output_type": "stream",
     "text": [
      "3.14159\n"
     ]
    }
   ],
   "source": [
    "print(PI)"
   ]
  },
  {
   "cell_type": "markdown",
   "id": "f4940a84",
   "metadata": {
    "papermill": {
     "duration": 0.005561,
     "end_time": "2025-05-06T13:13:53.666259",
     "exception": false,
     "start_time": "2025-05-06T13:13:53.660698",
     "status": "completed"
    },
    "tags": []
   },
   "source": [
    "## 🔹 Part 4 – Local vs Global Variables (4 mins)\n",
    "\n",
    "### 🌍 Global Variables\n",
    "\n",
    "* Defined **outside** of any function.\n",
    "* Can be accessed anywhere in the file."
   ]
  },
  {
   "cell_type": "code",
   "execution_count": 8,
   "id": "ed52d949",
   "metadata": {
    "execution": {
     "iopub.execute_input": "2025-05-06T13:13:53.678855Z",
     "iopub.status.busy": "2025-05-06T13:13:53.678528Z",
     "iopub.status.idle": "2025-05-06T13:13:53.682983Z",
     "shell.execute_reply": "2025-05-06T13:13:53.682106Z"
    },
    "papermill": {
     "duration": 0.012703,
     "end_time": "2025-05-06T13:13:53.684347",
     "exception": false,
     "start_time": "2025-05-06T13:13:53.671644",
     "status": "completed"
    },
    "tags": []
   },
   "outputs": [],
   "source": [
    "global_message = \"Hello\"\n",
    "def greet():\n",
    "    print(global_message)  # Accessible here"
   ]
  },
  {
   "cell_type": "markdown",
   "id": "6b280435",
   "metadata": {
    "papermill": {
     "duration": 0.005538,
     "end_time": "2025-05-06T13:13:53.695541",
     "exception": false,
     "start_time": "2025-05-06T13:13:53.690003",
     "status": "completed"
    },
    "tags": []
   },
   "source": [
    "### 🧪 Local Variables\n",
    "\n",
    "* Defined **inside** a function.\n",
    "* Only work **inside** that function.\n"
   ]
  },
  {
   "cell_type": "code",
   "execution_count": 9,
   "id": "67e98445",
   "metadata": {
    "execution": {
     "iopub.execute_input": "2025-05-06T13:13:53.708353Z",
     "iopub.status.busy": "2025-05-06T13:13:53.707975Z",
     "iopub.status.idle": "2025-05-06T13:13:53.713658Z",
     "shell.execute_reply": "2025-05-06T13:13:53.712643Z"
    },
    "papermill": {
     "duration": 0.013739,
     "end_time": "2025-05-06T13:13:53.715122",
     "exception": false,
     "start_time": "2025-05-06T13:13:53.701383",
     "status": "completed"
    },
    "tags": []
   },
   "outputs": [
    {
     "name": "stdout",
     "output_type": "stream",
     "text": [
      "Alice\n"
     ]
    }
   ],
   "source": [
    "def say_hello():\n",
    "    name2 = \"Alice\"  # Local variable\n",
    "    print(name2)\n",
    "\n",
    "say_hello()\n",
    "# uncomment the below line and run the code block to see the error.\n",
    "# print(name2)  # ❌ Error: name2 is not defined"
   ]
  },
  {
   "cell_type": "markdown",
   "id": "380de517",
   "metadata": {
    "papermill": {
     "duration": 0.005391,
     "end_time": "2025-05-06T13:13:53.726588",
     "exception": false,
     "start_time": "2025-05-06T13:13:53.721197",
     "status": "completed"
    },
    "tags": []
   },
   "source": [
    "\n",
    "### ⚠️ To Modify a Global Variable\n",
    "\n",
    "Use the `global` keyword:\n"
   ]
  },
  {
   "cell_type": "code",
   "execution_count": 10,
   "id": "ddfb9842",
   "metadata": {
    "execution": {
     "iopub.execute_input": "2025-05-06T13:13:53.738992Z",
     "iopub.status.busy": "2025-05-06T13:13:53.738699Z",
     "iopub.status.idle": "2025-05-06T13:13:53.743993Z",
     "shell.execute_reply": "2025-05-06T13:13:53.742725Z"
    },
    "papermill": {
     "duration": 0.014192,
     "end_time": "2025-05-06T13:13:53.746291",
     "exception": false,
     "start_time": "2025-05-06T13:13:53.732099",
     "status": "completed"
    },
    "tags": []
   },
   "outputs": [],
   "source": [
    "count = 0\n",
    "\n",
    "def increase():\n",
    "    global count\n",
    "    count += 1"
   ]
  },
  {
   "cell_type": "code",
   "execution_count": 11,
   "id": "70384042",
   "metadata": {
    "execution": {
     "iopub.execute_input": "2025-05-06T13:13:53.759782Z",
     "iopub.status.busy": "2025-05-06T13:13:53.759430Z",
     "iopub.status.idle": "2025-05-06T13:13:53.765062Z",
     "shell.execute_reply": "2025-05-06T13:13:53.763770Z"
    },
    "papermill": {
     "duration": 0.015375,
     "end_time": "2025-05-06T13:13:53.767437",
     "exception": false,
     "start_time": "2025-05-06T13:13:53.752062",
     "status": "completed"
    },
    "tags": []
   },
   "outputs": [
    {
     "name": "stdout",
     "output_type": "stream",
     "text": [
      "0\n",
      "1\n"
     ]
    }
   ],
   "source": [
    "print(count)\n",
    "increase()\n",
    "print(count)"
   ]
  },
  {
   "cell_type": "markdown",
   "id": "ad84671f",
   "metadata": {
    "papermill": {
     "duration": 0.005956,
     "end_time": "2025-05-06T13:13:53.779229",
     "exception": false,
     "start_time": "2025-05-06T13:13:53.773273",
     "status": "completed"
    },
    "tags": []
   },
   "source": [
    "## Exercise 2: Function exercise\n",
    "\n",
    "### define a function named decrease() that do the exact opposite of increase() and run it till \"count\" reaches 0:"
   ]
  },
  {
   "cell_type": "code",
   "execution_count": 12,
   "id": "0463947d",
   "metadata": {
    "execution": {
     "iopub.execute_input": "2025-05-06T13:13:53.792280Z",
     "iopub.status.busy": "2025-05-06T13:13:53.791893Z",
     "iopub.status.idle": "2025-05-06T13:13:53.796007Z",
     "shell.execute_reply": "2025-05-06T13:13:53.795256Z"
    },
    "papermill": {
     "duration": 0.012473,
     "end_time": "2025-05-06T13:13:53.797627",
     "exception": false,
     "start_time": "2025-05-06T13:13:53.785154",
     "status": "completed"
    },
    "tags": []
   },
   "outputs": [],
   "source": [
    "# write your code here"
   ]
  },
  {
   "cell_type": "markdown",
   "id": "1c7a29a9",
   "metadata": {
    "papermill": {
     "duration": 0.006229,
     "end_time": "2025-05-06T13:13:53.810595",
     "exception": false,
     "start_time": "2025-05-06T13:13:53.804366",
     "status": "completed"
    },
    "tags": []
   },
   "source": [
    "> 🧠 *\"If you don’t use `global`, Python thinks you're creating a **new local variable**.\"*\n",
    "\n",
    "---"
   ]
  },
  {
   "cell_type": "markdown",
   "id": "031ff87b",
   "metadata": {
    "papermill": {
     "duration": 0.005399,
     "end_time": "2025-05-06T13:13:53.821796",
     "exception": false,
     "start_time": "2025-05-06T13:13:53.816397",
     "status": "completed"
    },
    "tags": []
   },
   "source": [
    "## 💻 Part 5 – Mini Live Coding Demo (2 mins)"
   ]
  },
  {
   "cell_type": "code",
   "execution_count": 13,
   "id": "b49f0b00",
   "metadata": {
    "execution": {
     "iopub.execute_input": "2025-05-06T13:13:53.835450Z",
     "iopub.status.busy": "2025-05-06T13:13:53.835118Z",
     "iopub.status.idle": "2025-05-06T13:13:53.841496Z",
     "shell.execute_reply": "2025-05-06T13:13:53.840220Z"
    },
    "papermill": {
     "duration": 0.014774,
     "end_time": "2025-05-06T13:13:53.843118",
     "exception": false,
     "start_time": "2025-05-06T13:13:53.828344",
     "status": "completed"
    },
    "tags": []
   },
   "outputs": [
    {
     "name": "stdout",
     "output_type": "stream",
     "text": [
      "Sam\n",
      "90\n",
      "Well done!\n"
     ]
    }
   ],
   "source": [
    "PI = 3.14                  # Constant\n",
    "student_name = \"Sam\"      # String\n",
    "score = 90                # Integer\n",
    "passed = True             # Boolean\n",
    "\n",
    "def print_details():\n",
    "    message = \"Well done!\"   # Local variable\n",
    "    print(student_name)      # Global variable\n",
    "    print(score)\n",
    "    print(message)\n",
    "\n",
    "print_details()"
   ]
  },
  {
   "cell_type": "markdown",
   "id": "9af47190",
   "metadata": {
    "papermill": {
     "duration": 0.006211,
     "end_time": "2025-05-06T13:13:53.855267",
     "exception": false,
     "start_time": "2025-05-06T13:13:53.849056",
     "status": "completed"
    },
    "tags": []
   },
   "source": [
    "## 💥 Part 6 - Extra exercise (Take home/ Lesson Assignment)\n",
    "\n",
    "🧪 Exercise: Print Numbers 1 to 5\n",
    "\n",
    "Write a Python for loop that prints numbers from 1 to 5 using a variable.\n",
    "\n",
    "You can google/use AI for this exercise"
   ]
  },
  {
   "cell_type": "code",
   "execution_count": 14,
   "id": "fff27c99",
   "metadata": {
    "execution": {
     "iopub.execute_input": "2025-05-06T13:13:53.869037Z",
     "iopub.status.busy": "2025-05-06T13:13:53.868754Z",
     "iopub.status.idle": "2025-05-06T13:13:53.872555Z",
     "shell.execute_reply": "2025-05-06T13:13:53.871704Z"
    },
    "papermill": {
     "duration": 0.012215,
     "end_time": "2025-05-06T13:13:53.873983",
     "exception": false,
     "start_time": "2025-05-06T13:13:53.861768",
     "status": "completed"
    },
    "tags": []
   },
   "outputs": [],
   "source": [
    "# Enter your code in this block"
   ]
  },
  {
   "cell_type": "markdown",
   "id": "788b1c91",
   "metadata": {
    "papermill": {
     "duration": 0.005509,
     "end_time": "2025-05-06T13:13:53.885457",
     "exception": false,
     "start_time": "2025-05-06T13:13:53.879948",
     "status": "completed"
    },
    "tags": []
   },
   "source": [
    "\n",
    "\n",
    "\n",
    "\n",
    "## 🌟 Recap & Quiz (30 seconds)\n",
    "\n",
    "**Quick Quiz Questions:**\n",
    "\n",
    "1. What’s the difference between a constant and a variable?\n",
    "2. What happens if you try to access a local variable outside its function?\n",
    "3. Name 3 different data types.\n",
    "\n",
    "> 📚 **Final Tip**: *\"Whenever you write code, always think: **Where does this variable live?** and **What type of data is it holding?** These two questions will guide your debugging and help you write cleaner code.\"*"
   ]
  },
  {
   "cell_type": "markdown",
   "id": "9706b555",
   "metadata": {
    "papermill": {
     "duration": 0.005468,
     "end_time": "2025-05-06T13:13:53.896546",
     "exception": false,
     "start_time": "2025-05-06T13:13:53.891078",
     "status": "completed"
    },
    "tags": []
   },
   "source": [
    "## ⓘ Extra section/ Optional Material: C# references."
   ]
  },
  {
   "cell_type": "markdown",
   "id": "8f38ffa0",
   "metadata": {
    "papermill": {
     "duration": 0.00567,
     "end_time": "2025-05-06T13:13:53.908267",
     "exception": false,
     "start_time": "2025-05-06T13:13:53.902597",
     "status": "completed"
    },
    "tags": []
   },
   "source": [
    "\n",
    "## 💻 Reference of Part 2: C# Data Types\n",
    "\n",
    "\n",
    "\n",
    "| Data Type | Example                       | Size                 | Description                                                                 |\n",
    "|-----------|-------------------------------|----------------------|-----------------------------------------------------------------------------|\n",
    "| int       | `int age = 18;`               | 4 bytes              | Stores whole numbers from -2,147,483,648 to 2,147,483,647                   |\n",
    "| long      | `long population = 8000000000;`| 8 bytes              | Stores whole numbers from -9,223,372,036,854,775,808 to 9,223,372,036,854,775,807 |\n",
    "| float     | `float pi = 3.14f;`           | 4 bytes              | Stores fractional numbers. Sufficient for storing 6 to 7 decimal digits     |\n",
    "| double    | `double price = 19.99;`       | 8 bytes              | Stores fractional numbers. Sufficient for storing 15 decimal digits         |\n",
    "| bool      | `bool passed = true;`         | 1 byte               | Stores true or false values                                                 |\n",
    "| char      | `char initial = 'T';`         | 2 bytes              | Stores a single character/letter, surrounded by single quotes               |\n",
    "| string    | `string name = \"Tom\";`        | 2 bytes per character| Stores a sequence of characters, surrounded by double quotes                |\n",
    "\n",
    "\n",
    "\n",
    "C# example\n",
    "\n",
    "```csharp\n",
    "\n",
    "using System;\n",
    "using System.Collections.Generic;\n",
    "using System.Linq;\n",
    "using System.Text.RegularExpressions;\n",
    "namespace HelloWorld\n",
    "{\n",
    "\tpublic class Program\n",
    "\t{\n",
    "\t\tpublic static void Main(string[] args)\n",
    "\t\t{\n",
    "\t\t\tstring name = \"Jake\";\n",
    "\t\t\tint grade = 85;\n",
    "\t\t\tfloat percentage = 85.5f;\n",
    "\t\t\tbool passed = true;\n",
    "\t\t\tchar initial = 'J';\n",
    "  \n",
    "            Console.WriteLine(name); // Console.WriteLine() is the print() function for C#\n",
    "            Console.WriteLine(grade);\n",
    "            Console.WriteLine(percentage);\n",
    "            Console.WriteLine(passed);\n",
    "            Console.WriteLine(initial);\n",
    "\t\t}\n",
    "\t}\n",
    "}\n",
    "```\n",
    "### output\n",
    "![image](https://github.com/user-attachments/assets/95ea4a89-0c95-4653-893e-0f6e9afd87f2)\n",
    "\n",
    "---"
   ]
  },
  {
   "attachments": {
    "d154d0e3-e4b0-48e6-b838-2cde9cae6ba3.png": {
     "image/png": "[encoded data removed]"
    }
   },
   "cell_type": "markdown",
   "id": "1bae619b",
   "metadata": {
    "papermill": {
     "duration": 0.005468,
     "end_time": "2025-05-06T13:13:53.919470",
     "exception": false,
     "start_time": "2025-05-06T13:13:53.914002",
     "status": "completed"
    },
    "tags": []
   },
   "source": [
    "## Reference of Part 3: C# Variable & Constant example\n",
    "\n",
    "```\n",
    "using System; // using a prebuilt library so the computer know how to run your code\n",
    "\n",
    "namespace MyApplication // Declaring the program so the computer know what to run.\n",
    "{\n",
    "  class Program // Declaring a class and your actual code\n",
    "  {\n",
    "    static void Main(string[] args)\n",
    "    {\n",
    "      int age = 17;\n",
    "      string name = \"Tom\";\n",
    "      Console.WriteLine(age);\n",
    "      Console.WriteLine(name);\n",
    "    }\n",
    "  }\n",
    "}\n",
    "```\n",
    "\n",
    "### Output: \n",
    "![image.png](attachment:d154d0e3-e4b0-48e6-b838-2cde9cae6ba3.png)"
   ]
  },
  {
   "attachments": {
    "55ca6251-5068-4bde-8d45-e525d3a29094.png": {
     "image/png": "[encoded data removed]"
    },
    "784fe281-d6ad-4735-8473-01eda8dd9fc4.png": {
     "image/png": "[encoded data removed]"
    }
   },
   "cell_type": "markdown",
   "id": "993385f0",
   "metadata": {
    "papermill": {
     "duration": 0.005457,
     "end_time": "2025-05-06T13:13:53.930463",
     "exception": false,
     "start_time": "2025-05-06T13:13:53.925006",
     "status": "completed"
    },
    "tags": []
   },
   "source": [
    "### C# another variable example \n",
    "\n",
    "```\n",
    "using System;\n",
    "\n",
    "namespace MyApplication\n",
    "{\n",
    "  class Program\n",
    "  { \n",
    "    static void Main(string[] args)\n",
    "    {\n",
    "      // anything behind \"//\" is a comment in C#\n",
    "      string name = \"Tom3\"; // declaring name as variable\n",
    "      Console.WriteLine(name); // Console.WriteLine() is the print() of C#\n",
    "      name = \"Tom2\";\n",
    "      Console.WriteLine(name);\n",
    "    }\n",
    "  }\n",
    "}\n",
    "\n",
    "```\n",
    "\n",
    "### output (hence the output can change)\n",
    "![image.png](attachment:55ca6251-5068-4bde-8d45-e525d3a29094.png)\n",
    "\n",
    "### C# const example\n",
    "```\n",
    "using System;\n",
    "\n",
    "namespace MyApplication\n",
    "{\n",
    "  class Program\n",
    "  { \n",
    "    static void Main(string[] args)\n",
    "    {\n",
    "      Const string Constname = \"Tom3\"; //declaring Constname as const\n",
    "      Console.WriteLine(Constname);\n",
    "      Constname = \"Tom2\";\n",
    "      Console.WriteLine(Constname);\n",
    "    }\n",
    "  }\n",
    "}\n",
    "```\n",
    "### output (throwing an error as we declared it Constname as Constant)\n",
    "![image.png](attachment:784fe281-d6ad-4735-8473-01eda8dd9fc4.png)\n"
   ]
  },
  {
   "cell_type": "markdown",
   "id": "2a34e028",
   "metadata": {
    "papermill": {
     "duration": 0.005401,
     "end_time": "2025-05-06T13:13:53.941554",
     "exception": false,
     "start_time": "2025-05-06T13:13:53.936153",
     "status": "completed"
    },
    "tags": []
   },
   "source": [
    "## Reference of Part 4: C# Global and local example\n",
    "```\n",
    "using System;\n",
    "\n",
    "namespace MyApplication\n",
    "{\n",
    "  class Program\n",
    "  {\n",
    "    // 🌍 Global variable (class-level/static field)\n",
    "    static string globalMessage = \"Hello from global scope\";\n",
    "\n",
    "    static void Main(string[] args)\n",
    "    {\n",
    "      // 🧪 Local variable (only available in Main)\n",
    "      string localMessage = \"Hello from local scope\";\n",
    "\n",
    "      Console.WriteLine(globalMessage);  // ✅ Works\n",
    "      Console.WriteLine(localMessage);   // ✅ Works\n",
    "\n",
    "      PrintMessages();\n",
    "        //uncomment the line below and run it yourself to see if you can get my output\n",
    "      // Console.WriteLine(otherLocal);  // ❌ Error: does not exist in this context\n",
    "    }\n",
    "\n",
    "    static void PrintMessages()\n",
    "    {\n",
    "      Console.WriteLine(globalMessage);  // ✅ Can access global\n",
    "      string otherLocal = \"Local inside PrintMessages\";\n",
    "      Console.WriteLine(otherLocal);     // ✅ Works only here\n",
    "    }\n",
    "  }\n",
    "}\n",
    "```\n",
    "### output without the error line\n",
    "![image](https://github.com/user-attachments/assets/79d3824f-0075-414f-90e7-68e1172e2131)\n",
    "\n",
    "\n",
    "\n",
    "### output with the error line\n",
    "![image](https://github.com/user-attachments/assets/d5b2374d-259d-485f-9ae0-119ba7e6ccd4)"
   ]
  }
 ],
 "metadata": {
  "kaggle": {
   "accelerator": "none",
   "dataSources": [],
   "dockerImageVersionId": 31012,
   "isGpuEnabled": false,
   "isInternetEnabled": true,
   "language": "python",
   "sourceType": "notebook"
  },
  "kernelspec": {
   "display_name": "Python 3",
   "language": "python",
   "name": "python3"
  },
  "language_info": {
   "codemirror_mode": {
    "name": "ipython",
    "version": 3
   },
   "file_extension": ".py",
   "mimetype": "text/x-python",
   "name": "python",
   "nbconvert_exporter": "python",
   "pygments_lexer": "ipython3",
   "version": "3.11.11"
  },
  "papermill": {
   "default_parameters": {},
   "duration": 5.685732,
   "end_time": "2025-05-06T13:13:54.366223",
   "environment_variables": {},
   "exception": null,
   "input_path": "__notebook__.ipynb",
   "output_path": "__notebook__.ipynb",
   "parameters": {},
   "start_time": "2025-05-06T13:13:48.680491",
   "version": "2.6.0"
  }
 },
 "nbformat": 4,
 "nbformat_minor": 5
}
