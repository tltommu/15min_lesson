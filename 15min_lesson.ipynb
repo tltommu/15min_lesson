{
 "cells": [
  {
   "cell_type": "markdown",
   "id": "58790b2f",
   "metadata": {
    "papermill": {
     "duration": 0.007682,
     "end_time": "2025-05-13T22:42:37.383250",
     "exception": false,
     "start_time": "2025-05-13T22:42:37.375568",
     "status": "completed"
    },
    "tags": []
   },
   "source": [
    "## 📖 Part 0 - preface \n",
    "\n",
    "> \"There are two type of code block in this file, one is **markdown** and the other is **python**\"\n",
    "\n",
    "> \"The one that look fancier and doesn't have an execute button is **markdown**, it makes some information easier to read\"\n",
    "\n",
    ">\"The other one is **python** code block, it allows you to run python code.\""
   ]
  },
  {
   "cell_type": "markdown",
   "id": "a95e1d26",
   "metadata": {
    "papermill": {
     "duration": 0.005897,
     "end_time": "2025-05-13T22:42:37.395966",
     "exception": false,
     "start_time": "2025-05-13T22:42:37.390069",
     "status": "completed"
    },
    "tags": []
   },
   "source": [
    "## 🗣️ Part 1 – Introduction \n",
    "\n",
    "> *\"Hi everyone! In this session, we’re going to talk about some of the most essential building blocks of programming — data types, variables, constants, and how scope affects them. Now, the order of topics I’ll go through is intentional and based on real-world programming logic. When writing a program, especially a function, we usually decide what kind of data we’re dealing with first — for example: numbers, text, true/false values, etc. Once we know the type of data, we then decide what variables or constants we need to hold that data. This sequence helps you write cleaner and more predictable code\"*\n",
    "\n"
   ]
  },
  {
   "cell_type": "markdown",
   "id": "7d7c5e75",
   "metadata": {
    "papermill": {
     "duration": 0.0057,
     "end_time": "2025-05-13T22:42:37.407632",
     "exception": false,
     "start_time": "2025-05-13T22:42:37.401932",
     "status": "completed"
    },
    "tags": []
   },
   "source": [
    "## 🔹 Part 2 – Data Types & Variables\n",
    "\n",
    "Fundamental data types:\n",
    "\n",
    "| Type      | Example         | Description                            |\n",
    "| --------- | --------------- | -------------------------------------- |\n",
    "| Integer   | `10`, `-3`      | Whole numbers                          |\n",
    "| Double/Float| `3.14`, `-2.5`  | Also called floats; decimal values     |\n",
    "| String    | `\"Hello\"`       | Sequence of characters                 |\n",
    "| Boolean   | `True`, `False` | True/False values                      |\n",
    "\n",
    "\n",
    "### ✅ What is Variable?\n",
    "\n",
    "A **Variable** is a named storage for data. You can **change its value** later in the code.\n",
    "\n",
    "### Python code sample of fundamental data type & declaring variable"
   ]
  },
  {
   "cell_type": "code",
   "execution_count": 1,
   "id": "c10ebf64",
   "metadata": {
    "execution": {
     "iopub.execute_input": "2025-05-13T22:42:37.421258Z",
     "iopub.status.busy": "2025-05-13T22:42:37.420846Z",
     "iopub.status.idle": "2025-05-13T22:42:37.430944Z",
     "shell.execute_reply": "2025-05-13T22:42:37.429798Z"
    },
    "papermill": {
     "duration": 0.018873,
     "end_time": "2025-05-13T22:42:37.432559",
     "exception": false,
     "start_time": "2025-05-13T22:42:37.413686",
     "status": "completed"
    },
    "tags": []
   },
   "outputs": [
    {
     "name": "stdout",
     "output_type": "stream",
     "text": [
      "Jake\n",
      "<class 'str'>\n",
      "85\n",
      "<class 'int'>\n",
      "85.5\n",
      "<class 'float'>\n",
      "True\n",
      "<class 'bool'>\n"
     ]
    }
   ],
   "source": [
    "# Everything behind a \"#\" is a comment, people leave it to make the code more understandable.\n",
    "\n",
    "x = \"Jake\"        # string\n",
    "print(x)\n",
    "print(type(x))\n",
    "\n",
    "x = 85           # integer\n",
    "print(x)\n",
    "print(type(x))\n",
    "\n",
    "x = 85.5    # double (float)\n",
    "print(x)\n",
    "print(type(x))\n",
    "\n",
    "x = True        # boolean\n",
    "print(x)\n",
    "print(type(x))"
   ]
  },
  {
   "cell_type": "markdown",
   "id": "2c091d3e",
   "metadata": {
    "papermill": {
     "duration": 0.005746,
     "end_time": "2025-05-13T22:42:37.444559",
     "exception": false,
     "start_time": "2025-05-13T22:42:37.438813",
     "status": "completed"
    },
    "tags": []
   },
   "source": [
    "## Exercise 1: Variable exercise\n",
    "\n",
    "### Declare two variables, \"name\" and \"age\" in the below code block and print it out"
   ]
  },
  {
   "cell_type": "code",
   "execution_count": 2,
   "id": "0157949c",
   "metadata": {
    "execution": {
     "iopub.execute_input": "2025-05-13T22:42:37.457813Z",
     "iopub.status.busy": "2025-05-13T22:42:37.457427Z",
     "iopub.status.idle": "2025-05-13T22:42:37.461686Z",
     "shell.execute_reply": "2025-05-13T22:42:37.460813Z"
    },
    "papermill": {
     "duration": 0.012755,
     "end_time": "2025-05-13T22:42:37.463202",
     "exception": false,
     "start_time": "2025-05-13T22:42:37.450447",
     "status": "completed"
    },
    "tags": []
   },
   "outputs": [],
   "source": [
    "# Write you code here"
   ]
  },
  {
   "cell_type": "markdown",
   "id": "aa5d949c",
   "metadata": {
    "papermill": {
     "duration": 0.005769,
     "end_time": "2025-05-13T22:42:37.475098",
     "exception": false,
     "start_time": "2025-05-13T22:42:37.469329",
     "status": "completed"
    },
    "tags": []
   },
   "source": [
    "Python built-in data types that can store a collection of fundamental datatypes:\n",
    "\n",
    "| Data Type   | Syntax Example               | Ordered | Mutable | Allows Duplicates | Use Case                             |\n",
    "|-------------|------------------------------|---------|---------|-------------------|---------------------------------------|\n",
    "| List/ array        | `my_list = [1, 2, 3]`        | Yes     | Yes     | Yes               | Store an ordered collection of items |\n",
    "| Tuple       | `my_tuple = (1, 2, 3)`       | Yes     | No      | Yes               | Immutable sequences                  |\n",
    "| Dictionary  | `my_dict = {'a': 1, 'b': 2}` | Yes     | Yes     | Keys: No, Values: Yes | Key-value pairs for fast lookups     |\n",
    "| Set         | `my_set = {1, 2, 3}`         | No      | Yes     | No                | Unique items, fast membership checks |\n",
    "\n",
    "\n",
    "### Python code sample of built-in data type and declaring the variable:"
   ]
  },
  {
   "cell_type": "code",
   "execution_count": 3,
   "id": "9a821070",
   "metadata": {
    "execution": {
     "iopub.execute_input": "2025-05-13T22:42:37.488465Z",
     "iopub.status.busy": "2025-05-13T22:42:37.488192Z",
     "iopub.status.idle": "2025-05-13T22:42:37.493953Z",
     "shell.execute_reply": "2025-05-13T22:42:37.492824Z"
    },
    "papermill": {
     "duration": 0.014492,
     "end_time": "2025-05-13T22:42:37.495593",
     "exception": false,
     "start_time": "2025-05-13T22:42:37.481101",
     "status": "completed"
    },
    "tags": []
   },
   "outputs": [
    {
     "name": "stdout",
     "output_type": "stream",
     "text": [
      "List: [1, 'apple', True, 1.2]\n",
      "Updated List: [1, 'apple', True, 1.2, 1.2]\n",
      "1st element: 1\n",
      "5\n",
      "<class 'list'>\n"
     ]
    }
   ],
   "source": [
    "# List: Ordered, mutable, allows duplicates\n",
    "my_list = [1, \"apple\", True, 1.2] # contain all the fundamental data type for illustration purposes\n",
    "print(\"List:\", my_list)\n",
    "my_list.append(1.2)  # Add element\n",
    "print(\"Updated List:\", my_list)\n",
    "print(\"1st element:\" , my_list[0]) # accessing the 1st element, list count its position from 0\n",
    "print(len(my_list)) # getting the length of the list\n",
    "print(type(my_list))"
   ]
  },
  {
   "cell_type": "code",
   "execution_count": 4,
   "id": "bc8c7cee",
   "metadata": {
    "execution": {
     "iopub.execute_input": "2025-05-13T22:42:37.509359Z",
     "iopub.status.busy": "2025-05-13T22:42:37.509090Z",
     "iopub.status.idle": "2025-05-13T22:42:37.514211Z",
     "shell.execute_reply": "2025-05-13T22:42:37.513354Z"
    },
    "papermill": {
     "duration": 0.013988,
     "end_time": "2025-05-13T22:42:37.515874",
     "exception": false,
     "start_time": "2025-05-13T22:42:37.501886",
     "status": "completed"
    },
    "tags": []
   },
   "outputs": [
    {
     "name": "stdout",
     "output_type": "stream",
     "text": [
      "Tuple: (1, 'apple', True, 1.2, 1.2)\n",
      "1st Tuple: 1\n",
      "5\n",
      "<class 'tuple'>\n"
     ]
    }
   ],
   "source": [
    "# Tuple: Ordered, immutable, allows duplicates\n",
    "my_tuple = (1, \"apple\", True, 1.2, 1.2)\n",
    "print(\"Tuple:\", my_tuple)\n",
    "print(\"1st Tuple:\", my_tuple[0])\n",
    "print(len(my_tuple))\n",
    "print(type(my_tuple))"
   ]
  },
  {
   "cell_type": "code",
   "execution_count": 5,
   "id": "4226adb8",
   "metadata": {
    "execution": {
     "iopub.execute_input": "2025-05-13T22:42:37.529460Z",
     "iopub.status.busy": "2025-05-13T22:42:37.529191Z",
     "iopub.status.idle": "2025-05-13T22:42:37.534984Z",
     "shell.execute_reply": "2025-05-13T22:42:37.533899Z"
    },
    "papermill": {
     "duration": 0.014437,
     "end_time": "2025-05-13T22:42:37.536479",
     "exception": false,
     "start_time": "2025-05-13T22:42:37.522042",
     "status": "completed"
    },
    "tags": []
   },
   "outputs": [
    {
     "name": "stdout",
     "output_type": "stream",
     "text": [
      "Dictionary: {'a': 1, 'b': 2}\n",
      "Updated Dictionary: {'a': 1, 'b': 2, 'c': 3}\n",
      "value: 2\n",
      "3\n",
      "<class 'dict'>\n"
     ]
    }
   ],
   "source": [
    "# Dictionary: Key-value pairs, keys must be unique\n",
    "my_dict = {'a': 1, 'b': 2}\n",
    "print(\"Dictionary:\", my_dict)\n",
    "my_dict['c'] = 3  # Add key-value pair\n",
    "print(\"Updated Dictionary:\", my_dict)\n",
    "print(\"value:\" , my_dict.get('b')) # retrieving the value of 'a'\n",
    "print(len(my_dict)) # getting the length of the list\n",
    "print(type(my_dict))"
   ]
  },
  {
   "cell_type": "code",
   "execution_count": 6,
   "id": "15c9cce2",
   "metadata": {
    "execution": {
     "iopub.execute_input": "2025-05-13T22:42:37.550811Z",
     "iopub.status.busy": "2025-05-13T22:42:37.550466Z",
     "iopub.status.idle": "2025-05-13T22:42:37.556285Z",
     "shell.execute_reply": "2025-05-13T22:42:37.555422Z"
    },
    "papermill": {
     "duration": 0.014852,
     "end_time": "2025-05-13T22:42:37.557783",
     "exception": false,
     "start_time": "2025-05-13T22:42:37.542931",
     "status": "completed"
    },
    "tags": []
   },
   "outputs": [
    {
     "name": "stdout",
     "output_type": "stream",
     "text": [
      "Set: {False, True, 'apple', 1.2}\n",
      "Updated Set: {False, True, 1.2, 4, 'apple'}\n",
      "1 of the element in set: False\n",
      "5\n",
      "<class 'set'>\n"
     ]
    }
   ],
   "source": [
    "# Set: Unordered, mutable, no duplicates\n",
    "my_set = {True, \"apple\",False, 1.2, 1, 0} # True and 1 are considered the same, False and 0 are considered the same\n",
    "print(\"Set:\", my_set)\n",
    "my_set.add(4)  # Add element\n",
    "print(\"Updated Set:\", my_set)\n",
    "print(\"1 of the element in set:\", next(iter(my_set))) # \n",
    "print(len(my_set)) # getting the length of the list\n",
    "print(type(my_set))"
   ]
  },
  {
   "cell_type": "markdown",
   "id": "0ca18964",
   "metadata": {
    "papermill": {
     "duration": 0.005904,
     "end_time": "2025-05-13T22:42:37.569968",
     "exception": false,
     "start_time": "2025-05-13T22:42:37.564064",
     "status": "completed"
    },
    "tags": []
   },
   "source": [
    "> 💡 In Python, we don’t need to declare the type — it figures it out for us! (Why do people say python code is slow?)\n",
    "\n",
    "> 🧠 Think of variables like **labeled boxes**. You can put something inside, and even swap it out later.\n",
    "\n",
    "> Below section indicate how C# declare their datatypes and variables.\n",
    "---"
   ]
  },
  {
   "attachments": {
    "16cd6d98-7f68-4352-a22e-1323767ecf70.png": {
     "image/png": "[encoded data removed]"
    },
    "46c3bdff-c44a-4ed7-95d7-4ab52a5ce1d2.png": {
     "image/png": "[encoded data removed]"
    },
    "f745647a-01ba-4bf3-bab0-217c344299de.png": {
     "image/png": "[encoded data removed]"
    }
   },
   "cell_type": "markdown",
   "id": "d694da43",
   "metadata": {
    "papermill": {
     "duration": 0.006825,
     "end_time": "2025-05-13T22:42:37.582983",
     "exception": false,
     "start_time": "2025-05-13T22:42:37.576158",
     "status": "completed"
    },
    "tags": []
   },
   "source": [
    "\n",
    "## 💻 Reference of Part 2: C# Data type & Variables\n",
    "\n",
    "\n",
    "\n",
    "| Data Type | Example                       | Size                 | Description                                                                 |\n",
    "|-----------|-------------------------------|----------------------|-----------------------------------------------------------------------------|\n",
    "| int       | `int age = 18;`               | 4 bytes              | Stores whole numbers from -2,147,483,648 to 2,147,483,647                   |\n",
    "| long      | `long population = 8000000000;`| 8 bytes              | Stores whole numbers from -9,223,372,036,854,775,808 to 9,223,372,036,854,775,807 |\n",
    "| float     | `float pi = 3.14f;`           | 4 bytes              | Stores fractional numbers. Sufficient for storing 6 to 7 decimal digits     |\n",
    "| double    | `double price = 19.99;`       | 8 bytes              | Stores fractional numbers. Sufficient for storing 15 decimal digits         |\n",
    "| bool      | `bool passed = true;`         | 1 byte               | Stores true or false values                                                 |\n",
    "| char      | `char initial = 'T';`         | 2 bytes              | Stores a single character/letter, surrounded by single quotes               |\n",
    "| string    | `string name = \"Tom\";`        | 2 bytes per character| Stores a sequence of characters, surrounded by double quotes                |\n",
    "\n",
    "\n",
    "\n",
    "C# example for declaring data type & variables\n",
    "\n",
    "```csharp\n",
    "\n",
    "using System;\n",
    "using System.Collections.Generic;\n",
    "using System.Linq;\n",
    "using System.Text.RegularExpressions;\n",
    "namespace HelloWorld\n",
    "{\n",
    "\tpublic class Program\n",
    "\t{\n",
    "\t\tpublic static void Main(string[] args)\n",
    "\t\t{\n",
    "\t\t\tstring name = \"Jake\";\n",
    "\t\t\tint grade = 85;\n",
    "\t\t\tfloat percentage = 85.5f;\n",
    "\t\t\tbool passed = true;\n",
    "  \n",
    "            Console.WriteLine(name); // Console.WriteLine() is the print() function for C#\n",
    "            Console.WriteLine(grade);\n",
    "            Console.WriteLine(percentage);\n",
    "            Console.WriteLine(passed);\n",
    "\t\t}\n",
    "\t}\n",
    "}\n",
    "```\n",
    "### Output\n",
    "![image.png](attachment:f745647a-01ba-4bf3-bab0-217c344299de.png)\n",
    "\n",
    "---\n",
    "\n",
    "### C# example of reassigning value of a variable.\n",
    "```\n",
    "using System;\n",
    "using System.Collections.Generic;\n",
    "using System.Linq;\n",
    "using System.Text.RegularExpressions;\n",
    "namespace HelloWorld\n",
    "{\n",
    "    public class Program\n",
    "    {\n",
    "        public static void Main(string[] args)\n",
    "        {\n",
    "            string name = \"Jake\";\n",
    "            Console.WriteLine(name);\n",
    "            name = 1; // you cannot reassign a value with a different type\n",
    "        }\n",
    "    }\n",
    "}\n",
    "```\n",
    "### Output\n",
    "![image.png](attachment:46c3bdff-c44a-4ed7-95d7-4ab52a5ce1d2.png)\n"
   ]
  },
  {
   "attachments": {
    "0d8e9236-c011-4794-8df2-183346752c8b.png": {
     "image/png": "[encoded data removed]"
    },
    "d154d0e3-e4b0-48e6-b838-2cde9cae6ba3.png": {
     "image/png": "[encoded data removed]"
    }
   },
   "cell_type": "markdown",
   "id": "4f8f1a1b",
   "metadata": {
    "papermill": {
     "duration": 0.00781,
     "end_time": "2025-05-13T22:42:37.599273",
     "exception": false,
     "start_time": "2025-05-13T22:42:37.591463",
     "status": "completed"
    },
    "tags": []
   },
   "source": [
    "### Correct way to reassign variable in C# with the same data type\n",
    "\n",
    "```\n",
    "using System; // using a prebuilt library so the computer know how to run your code\n",
    "\n",
    "namespace MyApplication // Declaring the program so the computer know what to run.\n",
    "{\n",
    "  class Program // Declaring a class and your actual code\n",
    "  {\n",
    "    static void Main(string[] args)\n",
    "    {\n",
    "      string name = \"Tommy\";\n",
    "      Console.WriteLine(name);\n",
    "      name = \"Tom\"; // you don't need to declare the type to reassign the value again\n",
    "      Console.WriteLine(name);\n",
    "    }\n",
    "  }\n",
    "}\n",
    "```\n",
    "\n",
    "### Output: \n",
    "![image.png](attachment:0d8e9236-c011-4794-8df2-183346752c8b.png)"
   ]
  },
  {
   "cell_type": "markdown",
   "id": "54a3f3c0",
   "metadata": {
    "papermill": {
     "duration": 0.00884,
     "end_time": "2025-05-13T22:42:37.615379",
     "exception": false,
     "start_time": "2025-05-13T22:42:37.606539",
     "status": "completed"
    },
    "tags": []
   },
   "source": [
    "## 🔹 Part 3 – Constants\n",
    "### 🔒 What is a Constant?\n",
    "\n",
    "A **constant** is a value that should **not change** once assigned. Python doesn’t enforce constants, but we **use ALL CAPS** to name them."
   ]
  },
  {
   "cell_type": "code",
   "execution_count": 7,
   "id": "98fe8593",
   "metadata": {
    "execution": {
     "iopub.execute_input": "2025-05-13T22:42:37.630409Z",
     "iopub.status.busy": "2025-05-13T22:42:37.630046Z",
     "iopub.status.idle": "2025-05-13T22:42:37.635424Z",
     "shell.execute_reply": "2025-05-13T22:42:37.634404Z"
    },
    "papermill": {
     "duration": 0.015445,
     "end_time": "2025-05-13T22:42:37.637666",
     "exception": false,
     "start_time": "2025-05-13T22:42:37.622221",
     "status": "completed"
    },
    "tags": []
   },
   "outputs": [],
   "source": [
    "PI = 3.14159"
   ]
  },
  {
   "cell_type": "code",
   "execution_count": 8,
   "id": "bedf7841",
   "metadata": {
    "execution": {
     "iopub.execute_input": "2025-05-13T22:42:37.654775Z",
     "iopub.status.busy": "2025-05-13T22:42:37.654396Z",
     "iopub.status.idle": "2025-05-13T22:42:37.659656Z",
     "shell.execute_reply": "2025-05-13T22:42:37.658753Z"
    },
    "papermill": {
     "duration": 0.014227,
     "end_time": "2025-05-13T22:42:37.661126",
     "exception": false,
     "start_time": "2025-05-13T22:42:37.646899",
     "status": "completed"
    },
    "tags": []
   },
   "outputs": [
    {
     "name": "stdout",
     "output_type": "stream",
     "text": [
      "3.14159\n"
     ]
    }
   ],
   "source": [
    "print(PI)"
   ]
  },
  {
   "cell_type": "markdown",
   "id": "93b22273",
   "metadata": {
    "papermill": {
     "duration": 0.006712,
     "end_time": "2025-05-13T22:42:37.674307",
     "exception": false,
     "start_time": "2025-05-13T22:42:37.667595",
     "status": "completed"
    },
    "tags": []
   },
   "source": [
    "> 📌 *\"In real life, PI doesn’t change. That’s why we treat it as a constant.\"*\n",
    "\n",
    "---"
   ]
  },
  {
   "attachments": {
    "55ca6251-5068-4bde-8d45-e525d3a29094.png": {
     "image/png": "[encoded data removed]"
    },
    "784fe281-d6ad-4735-8473-01eda8dd9fc4.png": {
     "image/png": "[encoded data removed]"
    },
    "9603df19-5866-4708-8548-de2a257fa7b4.png": {
     "image/png": "[encoded data removed]"
    }
   },
   "cell_type": "markdown",
   "id": "b9329514",
   "metadata": {
    "papermill": {
     "duration": 0.00612,
     "end_time": "2025-05-13T22:42:37.686810",
     "exception": false,
     "start_time": "2025-05-13T22:42:37.680690",
     "status": "completed"
    },
    "tags": []
   },
   "source": [
    "## 📖 Reference of Part 3: C# Constants\n",
    "\n",
    "### C# const example\n",
    "```\n",
    "using System;\n",
    "\n",
    "namespace MyApplication\n",
    "{\n",
    "  class Program\n",
    "  { \n",
    "    static void Main(string[] args)\n",
    "    {\n",
    "      const string Constname = \"Tom3\"; //declaring Constname as const\n",
    "      Console.WriteLine(Constname);\n",
    "      Constname = \"Tom2\";\n",
    "      Console.WriteLine(Constname);\n",
    "    }\n",
    "  }\n",
    "}\n",
    "```\n",
    "### output (throwing an error as we declared it Constname as Constant)\n",
    "![image.png](attachment:784fe281-d6ad-4735-8473-01eda8dd9fc4.png)\n"
   ]
  },
  {
   "cell_type": "markdown",
   "id": "fe86d3ca",
   "metadata": {
    "papermill": {
     "duration": 0.008409,
     "end_time": "2025-05-13T22:42:37.703310",
     "exception": false,
     "start_time": "2025-05-13T22:42:37.694901",
     "status": "completed"
    },
    "tags": []
   },
   "source": [
    "## 🔹 Part 4 – Local vs Global Variables \n",
    "\n",
    "### 🌍 Global Variables\n",
    "\n",
    "* Defined **outside** of any function.\n",
    "* Can be accessed anywhere in the file."
   ]
  },
  {
   "cell_type": "code",
   "execution_count": 9,
   "id": "da077743",
   "metadata": {
    "execution": {
     "iopub.execute_input": "2025-05-13T22:42:37.719520Z",
     "iopub.status.busy": "2025-05-13T22:42:37.718709Z",
     "iopub.status.idle": "2025-05-13T22:42:37.725120Z",
     "shell.execute_reply": "2025-05-13T22:42:37.723718Z"
    },
    "papermill": {
     "duration": 0.01669,
     "end_time": "2025-05-13T22:42:37.727869",
     "exception": false,
     "start_time": "2025-05-13T22:42:37.711179",
     "status": "completed"
    },
    "tags": []
   },
   "outputs": [
    {
     "name": "stdout",
     "output_type": "stream",
     "text": [
      "Hello\n"
     ]
    }
   ],
   "source": [
    "global_message = \"Hello\"\n",
    "def greet():\n",
    "    print(global_message)  # Accessible here\n",
    "greet()"
   ]
  },
  {
   "cell_type": "markdown",
   "id": "57da454e",
   "metadata": {
    "papermill": {
     "duration": 0.007217,
     "end_time": "2025-05-13T22:42:37.746563",
     "exception": false,
     "start_time": "2025-05-13T22:42:37.739346",
     "status": "completed"
    },
    "tags": []
   },
   "source": [
    "### 🧪 Local Variables\n",
    "\n",
    "* Defined **inside** a function.\n",
    "* Only work **inside** that function.\n"
   ]
  },
  {
   "cell_type": "code",
   "execution_count": 10,
   "id": "d347273c",
   "metadata": {
    "execution": {
     "iopub.execute_input": "2025-05-13T22:42:37.765128Z",
     "iopub.status.busy": "2025-05-13T22:42:37.764757Z",
     "iopub.status.idle": "2025-05-13T22:42:37.770637Z",
     "shell.execute_reply": "2025-05-13T22:42:37.769703Z"
    },
    "papermill": {
     "duration": 0.019205,
     "end_time": "2025-05-13T22:42:37.772921",
     "exception": false,
     "start_time": "2025-05-13T22:42:37.753716",
     "status": "completed"
    },
    "tags": []
   },
   "outputs": [
    {
     "name": "stdout",
     "output_type": "stream",
     "text": [
      "Alice\n"
     ]
    }
   ],
   "source": [
    "def say_hello():\n",
    "    name2 = \"Alice\"  # Local variable\n",
    "    print(name2)\n",
    "\n",
    "say_hello()\n",
    "# uncomment the below line and run the code block to see the error.\n",
    "# print(name2)  # ❌ Error: name2 is not defined"
   ]
  },
  {
   "cell_type": "markdown",
   "id": "3572bb63",
   "metadata": {
    "papermill": {
     "duration": 0.006277,
     "end_time": "2025-05-13T22:42:37.787499",
     "exception": false,
     "start_time": "2025-05-13T22:42:37.781222",
     "status": "completed"
    },
    "tags": []
   },
   "source": [
    "\n",
    "### ⚠️ To Modify a Global Variable\n",
    "\n",
    "Use the `global` keyword:\n"
   ]
  },
  {
   "cell_type": "code",
   "execution_count": 11,
   "id": "fd2a3067",
   "metadata": {
    "execution": {
     "iopub.execute_input": "2025-05-13T22:42:37.801952Z",
     "iopub.status.busy": "2025-05-13T22:42:37.801600Z",
     "iopub.status.idle": "2025-05-13T22:42:37.806521Z",
     "shell.execute_reply": "2025-05-13T22:42:37.805745Z"
    },
    "papermill": {
     "duration": 0.013924,
     "end_time": "2025-05-13T22:42:37.807995",
     "exception": false,
     "start_time": "2025-05-13T22:42:37.794071",
     "status": "completed"
    },
    "tags": []
   },
   "outputs": [],
   "source": [
    "count = 0\n",
    "\n",
    "def increase():\n",
    "    global count\n",
    "    count += 1"
   ]
  },
  {
   "cell_type": "code",
   "execution_count": 12,
   "id": "60b963b1",
   "metadata": {
    "execution": {
     "iopub.execute_input": "2025-05-13T22:42:37.822350Z",
     "iopub.status.busy": "2025-05-13T22:42:37.822079Z",
     "iopub.status.idle": "2025-05-13T22:42:37.827108Z",
     "shell.execute_reply": "2025-05-13T22:42:37.826154Z"
    },
    "papermill": {
     "duration": 0.014033,
     "end_time": "2025-05-13T22:42:37.828654",
     "exception": false,
     "start_time": "2025-05-13T22:42:37.814621",
     "status": "completed"
    },
    "tags": []
   },
   "outputs": [
    {
     "name": "stdout",
     "output_type": "stream",
     "text": [
      "0\n",
      "1\n"
     ]
    }
   ],
   "source": [
    "print(count)\n",
    "increase()\n",
    "print(count)"
   ]
  },
  {
   "cell_type": "markdown",
   "id": "30ac4289",
   "metadata": {
    "papermill": {
     "duration": 0.006419,
     "end_time": "2025-05-13T22:42:37.841960",
     "exception": false,
     "start_time": "2025-05-13T22:42:37.835541",
     "status": "completed"
    },
    "tags": []
   },
   "source": [
    "## Exercise 2: Function exercise\n",
    "\n",
    "### define a function named decrease() that do the exact opposite of increase() and run it till \"count\" reaches 0:"
   ]
  },
  {
   "cell_type": "code",
   "execution_count": 13,
   "id": "fcb71c77",
   "metadata": {
    "execution": {
     "iopub.execute_input": "2025-05-13T22:42:37.857365Z",
     "iopub.status.busy": "2025-05-13T22:42:37.856429Z",
     "iopub.status.idle": "2025-05-13T22:42:37.860953Z",
     "shell.execute_reply": "2025-05-13T22:42:37.859993Z"
    },
    "papermill": {
     "duration": 0.013827,
     "end_time": "2025-05-13T22:42:37.862494",
     "exception": false,
     "start_time": "2025-05-13T22:42:37.848667",
     "status": "completed"
    },
    "tags": []
   },
   "outputs": [],
   "source": [
    "# write your code here"
   ]
  },
  {
   "cell_type": "markdown",
   "id": "fd72c906",
   "metadata": {
    "papermill": {
     "duration": 0.006376,
     "end_time": "2025-05-13T22:42:37.875387",
     "exception": false,
     "start_time": "2025-05-13T22:42:37.869011",
     "status": "completed"
    },
    "tags": []
   },
   "source": [
    "> 🧠 *\"If you don’t use `global`, Python thinks you're creating a **new local variable**.\"*\n",
    "\n",
    "---"
   ]
  },
  {
   "cell_type": "markdown",
   "id": "894c3ecb",
   "metadata": {
    "papermill": {
     "duration": 0.006046,
     "end_time": "2025-05-13T22:42:37.887903",
     "exception": false,
     "start_time": "2025-05-13T22:42:37.881857",
     "status": "completed"
    },
    "tags": []
   },
   "source": [
    "## 💥 Part 5 - Extra exercise (Take home/ Lesson Assignment)\n",
    "\n",
    "🧪 Exercise: Print Numbers 1 to 5\n",
    "\n",
    "Write a Python for loop that prints numbers from 1 to 5 using a variable.\n",
    "\n",
    "You can google/use AI for this exercise"
   ]
  },
  {
   "cell_type": "code",
   "execution_count": 14,
   "id": "35a3e1c3",
   "metadata": {
    "execution": {
     "iopub.execute_input": "2025-05-13T22:42:37.902743Z",
     "iopub.status.busy": "2025-05-13T22:42:37.902398Z",
     "iopub.status.idle": "2025-05-13T22:42:37.907034Z",
     "shell.execute_reply": "2025-05-13T22:42:37.905999Z"
    },
    "papermill": {
     "duration": 0.014409,
     "end_time": "2025-05-13T22:42:37.908774",
     "exception": false,
     "start_time": "2025-05-13T22:42:37.894365",
     "status": "completed"
    },
    "tags": []
   },
   "outputs": [],
   "source": [
    "# Enter your code in this block"
   ]
  },
  {
   "cell_type": "markdown",
   "id": "965d17b9",
   "metadata": {
    "papermill": {
     "duration": 0.006837,
     "end_time": "2025-05-13T22:42:37.925935",
     "exception": false,
     "start_time": "2025-05-13T22:42:37.919098",
     "status": "completed"
    },
    "tags": []
   },
   "source": [
    "\n",
    "\n",
    "\n",
    "\n",
    "## 🌟 Recap & Quiz (30 seconds)\n",
    "\n",
    "**Quick Quiz Questions:**\n",
    "\n",
    "1. What’s the difference between a constant and a variable?\n",
    "2. What happens if you try to access a local variable outside its function?\n",
    "3. Name 3 different data types.\n",
    "\n",
    "> 📚 **Final Tip**: *\"Whenever you write code, always think: **Where does this variable live?** and **What type of data is it holding?** These two questions will guide your debugging and help you write cleaner code.\"*"
   ]
  },
  {
   "cell_type": "markdown",
   "id": "f056caa0",
   "metadata": {
    "papermill": {
     "duration": 0.00733,
     "end_time": "2025-05-13T22:42:37.940375",
     "exception": false,
     "start_time": "2025-05-13T22:42:37.933045",
     "status": "completed"
    },
    "tags": []
   },
   "source": [
    "## ⓘ Extra section/ Optional Material: C# references. You can visit [onecompiler](https://onecompiler.com/) to try it\n"
   ]
  },
  {
   "cell_type": "markdown",
   "id": "29d574b3",
   "metadata": {
    "papermill": {
     "duration": 0.007075,
     "end_time": "2025-05-13T22:42:37.953934",
     "exception": false,
     "start_time": "2025-05-13T22:42:37.946859",
     "status": "completed"
    },
    "tags": []
   },
   "source": [
    " ## 📕 Reference of Part 4: C# Global and local example\n",
    "```\n",
    "using System;\n",
    "\n",
    "namespace MyApplication\n",
    "{\n",
    "  class Program\n",
    "  {\n",
    "    // 🌍 Global variable (class-level/static field)\n",
    "    static string globalMessage = \"Hello from global scope\";\n",
    "\n",
    "    static void Main(string[] args)\n",
    "    {\n",
    "      // 🧪 Local variable (only available in Main)\n",
    "      string localMessage = \"Hello from local scope\";\n",
    "\n",
    "      Console.WriteLine(globalMessage);  // ✅ Works\n",
    "      Console.WriteLine(localMessage);   // ✅ Works\n",
    "\n",
    "      PrintMessages();\n",
    "        //uncomment the line below and run it yourself to see if you can get my output\n",
    "      // Console.WriteLine(otherLocal);  // ❌ Error: does not exist in this context\n",
    "    }\n",
    "\n",
    "    static void PrintMessages()\n",
    "    {\n",
    "      Console.WriteLine(globalMessage);  // ✅ Can access global\n",
    "      string otherLocal = \"Local inside PrintMessages\";\n",
    "      Console.WriteLine(otherLocal);     // ✅ Works only here\n",
    "    }\n",
    "  }\n",
    "}\n",
    "```\n",
    "### output without the error line\n",
    "![image](https://github.com/user-attachments/assets/79d3824f-0075-414f-90e7-68e1172e2131)\n",
    "\n",
    "\n",
    "\n",
    "### output with the error line\n",
    "![image](https://github.com/user-attachments/assets/d5b2374d-259d-485f-9ae0-119ba7e6ccd4)"
   ]
  }
 ],
 "metadata": {
  "kaggle": {
   "accelerator": "none",
   "dataSources": [],
   "dockerImageVersionId": 31012,
   "isGpuEnabled": false,
   "isInternetEnabled": true,
   "language": "python",
   "sourceType": "notebook"
  },
  "kernelspec": {
   "display_name": "Python 3",
   "language": "python",
   "name": "python3"
  },
  "language_info": {
   "codemirror_mode": {
    "name": "ipython",
    "version": 3
   },
   "file_extension": ".py",
   "mimetype": "text/x-python",
   "name": "python",
   "nbconvert_exporter": "python",
   "pygments_lexer": "ipython3",
   "version": "3.11.11"
  },
  "papermill": {
   "default_parameters": {},
   "duration": 6.434232,
   "end_time": "2025-05-13T22:42:38.379877",
   "environment_variables": {},
   "exception": null,
   "input_path": "__notebook__.ipynb",
   "output_path": "__notebook__.ipynb",
   "parameters": {},
   "start_time": "2025-05-13T22:42:31.945645",
   "version": "2.6.0"
  }
 },
 "nbformat": 4,
 "nbformat_minor": 5
}
