{
 "cells": [
  {
   "cell_type": "markdown",
   "id": "a5ca4bd9",
   "metadata": {
    "papermill": {
     "duration": 0.007573,
     "end_time": "2025-05-12T19:34:41.113137",
     "exception": false,
     "start_time": "2025-05-12T19:34:41.105564",
     "status": "completed"
    },
    "tags": []
   },
   "source": [
    "## 📖 Part 0 - preface \n",
    "\n",
    "> \"There are two type of code block in this file, one is **markdown** and the other is **python**\"\n",
    "\n",
    "> \"The one that look fancier and doesn't have an execute button is **markdown**, it makes some information easier to read\"\n",
    "\n",
    ">\"The other one is **python** code block, it allows you to run python code.\""
   ]
  },
  {
   "cell_type": "markdown",
   "id": "720b236b",
   "metadata": {
    "papermill": {
     "duration": 0.005622,
     "end_time": "2025-05-12T19:34:41.124719",
     "exception": false,
     "start_time": "2025-05-12T19:34:41.119097",
     "status": "completed"
    },
    "tags": []
   },
   "source": [
    "## 🗣️ Part 1 – Introduction (1 min)\n",
    "\n",
    "> *\"Hi everyone! Today, we’re going to learn about something fundamental in programming — **variables, constants, and data types**. These are the building blocks for writing any program. Let's dive in!\"*\n",
    "\n"
   ]
  },
  {
   "cell_type": "markdown",
   "id": "492125a3",
   "metadata": {
    "papermill": {
     "duration": 0.006642,
     "end_time": "2025-05-12T19:34:41.138267",
     "exception": false,
     "start_time": "2025-05-12T19:34:41.131625",
     "status": "completed"
    },
    "tags": []
   },
   "source": [
    "## 🔹 Part 2 – Data Types (5 mins)\n",
    "\n",
    "Python has several built-in data types. Here are five key ones:\n",
    "\n",
    "| Type      | Example         | Description                            |\n",
    "| --------- | --------------- | -------------------------------------- |\n",
    "| Integer   | `10`, `-3`      | Whole numbers                          |\n",
    "| Double/Float| `3.14`, `-2.5`  | Also called floats; decimal values     |\n",
    "| String    | `\"Hello\"`       | Sequence of characters                 |\n",
    "| Character | `'A'`           | A single letter (just a 1-char string) |\n",
    "| Boolean   | `True`, `False` | True/False values                      |"
   ]
  },
  {
   "cell_type": "code",
   "execution_count": 1,
   "id": "d5a33d40",
   "metadata": {
    "execution": {
     "iopub.execute_input": "2025-05-12T19:34:41.152627Z",
     "iopub.status.busy": "2025-05-12T19:34:41.152154Z",
     "iopub.status.idle": "2025-05-12T19:34:41.163474Z",
     "shell.execute_reply": "2025-05-12T19:34:41.162263Z"
    },
    "papermill": {
     "duration": 0.020545,
     "end_time": "2025-05-12T19:34:41.165405",
     "exception": false,
     "start_time": "2025-05-12T19:34:41.144860",
     "status": "completed"
    },
    "tags": []
   },
   "outputs": [],
   "source": [
    "# Everything behind a \"#\" is a comment, people leave it to make the code more understandable.\n",
    "\n",
    "name3 = \"Jake\"        # string\n",
    "grade = 85           # integer\n",
    "percentage = 85.5    # double (float)\n",
    "passed = True        # boolean\n",
    "initial = 'J'        # character"
   ]
  },
  {
   "cell_type": "code",
   "execution_count": 2,
   "id": "de29fc01",
   "metadata": {
    "execution": {
     "iopub.execute_input": "2025-05-12T19:34:41.178893Z",
     "iopub.status.busy": "2025-05-12T19:34:41.178536Z",
     "iopub.status.idle": "2025-05-12T19:34:41.186134Z",
     "shell.execute_reply": "2025-05-12T19:34:41.184852Z"
    },
    "papermill": {
     "duration": 0.016621,
     "end_time": "2025-05-12T19:34:41.188034",
     "exception": false,
     "start_time": "2025-05-12T19:34:41.171413",
     "status": "completed"
    },
    "tags": []
   },
   "outputs": [
    {
     "name": "stdout",
     "output_type": "stream",
     "text": [
      "Jake\n",
      "85\n",
      "85.5\n",
      "True\n",
      "J\n",
      "<class 'str'>\n",
      "<class 'int'>\n",
      "<class 'float'>\n",
      "<class 'bool'>\n",
      "<class 'str'>\n"
     ]
    }
   ],
   "source": [
    "print(name3) #print() is a function of python to produce an output.\n",
    "print(grade)\n",
    "print(percentage)\n",
    "print(passed)\n",
    "print(initial)\n",
    "\n",
    "print(type(name3)) # type() is a function that let you know the datatype of a variable.\n",
    "print(type(grade))\n",
    "print(type(percentage))\n",
    "print(type(passed))\n",
    "print(type(initial))"
   ]
  },
  {
   "cell_type": "markdown",
   "id": "c886039d",
   "metadata": {
    "papermill": {
     "duration": 0.005469,
     "end_time": "2025-05-12T19:34:41.199383",
     "exception": false,
     "start_time": "2025-05-12T19:34:41.193914",
     "status": "completed"
    },
    "tags": []
   },
   "source": [
    "> 💡 In Python, we don’t need to declare the type — it figures it out for us! (Why do people say python code is slow?)\n",
    "\n",
    "> I have included how C# declare their datatypes at the C# reference section.\n",
    "---"
   ]
  },
  {
   "cell_type": "markdown",
   "id": "359dbc0c",
   "metadata": {
    "papermill": {
     "duration": 0.005441,
     "end_time": "2025-05-12T19:34:41.210486",
     "exception": false,
     "start_time": "2025-05-12T19:34:41.205045",
     "status": "completed"
    },
    "tags": []
   },
   "source": [
    "## 🔹 Part 3 – Constants & Variables (3 mins)\n",
    "\n",
    "### ✅ What is a Variable?\n",
    "\n",
    "A **variable** is a named storage for data. You can **change its value** later in the code."
   ]
  },
  {
   "cell_type": "code",
   "execution_count": 3,
   "id": "612a12d9",
   "metadata": {
    "execution": {
     "iopub.execute_input": "2025-05-12T19:34:41.224107Z",
     "iopub.status.busy": "2025-05-12T19:34:41.223801Z",
     "iopub.status.idle": "2025-05-12T19:34:41.228318Z",
     "shell.execute_reply": "2025-05-12T19:34:41.227366Z"
    },
    "papermill": {
     "duration": 0.014056,
     "end_time": "2025-05-12T19:34:41.230327",
     "exception": false,
     "start_time": "2025-05-12T19:34:41.216271",
     "status": "completed"
    },
    "tags": []
   },
   "outputs": [],
   "source": [
    "name = \"Tom\" # as mentioned above this is automatically declared as a string\n",
    "age = 17 # declared as an integer"
   ]
  },
  {
   "cell_type": "code",
   "execution_count": 4,
   "id": "ba3eb80f",
   "metadata": {
    "execution": {
     "iopub.execute_input": "2025-05-12T19:34:41.243720Z",
     "iopub.status.busy": "2025-05-12T19:34:41.243349Z",
     "iopub.status.idle": "2025-05-12T19:34:41.250133Z",
     "shell.execute_reply": "2025-05-12T19:34:41.248131Z"
    },
    "papermill": {
     "duration": 0.016349,
     "end_time": "2025-05-12T19:34:41.252684",
     "exception": false,
     "start_time": "2025-05-12T19:34:41.236335",
     "status": "completed"
    },
    "tags": []
   },
   "outputs": [
    {
     "name": "stdout",
     "output_type": "stream",
     "text": [
      "Tom\n",
      "17\n"
     ]
    }
   ],
   "source": [
    "print(name)\n",
    "print(age)"
   ]
  },
  {
   "cell_type": "markdown",
   "id": "aa0d5ace",
   "metadata": {
    "papermill": {
     "duration": 0.005875,
     "end_time": "2025-05-12T19:34:41.264648",
     "exception": false,
     "start_time": "2025-05-12T19:34:41.258773",
     "status": "completed"
    },
    "tags": []
   },
   "source": [
    "## Exercise 1: Variable exercise\n",
    "\n",
    "### Change the value of \"name\" and \"age\" in the below code block and print it out"
   ]
  },
  {
   "cell_type": "code",
   "execution_count": 5,
   "id": "8764fdc4",
   "metadata": {
    "execution": {
     "iopub.execute_input": "2025-05-12T19:34:41.278992Z",
     "iopub.status.busy": "2025-05-12T19:34:41.278656Z",
     "iopub.status.idle": "2025-05-12T19:34:41.283284Z",
     "shell.execute_reply": "2025-05-12T19:34:41.282354Z"
    },
    "papermill": {
     "duration": 0.014584,
     "end_time": "2025-05-12T19:34:41.285083",
     "exception": false,
     "start_time": "2025-05-12T19:34:41.270499",
     "status": "completed"
    },
    "tags": []
   },
   "outputs": [],
   "source": [
    "# Write your code here"
   ]
  },
  {
   "cell_type": "markdown",
   "id": "5de1729f",
   "metadata": {
    "papermill": {
     "duration": 0.005928,
     "end_time": "2025-05-12T19:34:41.297512",
     "exception": false,
     "start_time": "2025-05-12T19:34:41.291584",
     "status": "completed"
    },
    "tags": []
   },
   "source": [
    "> 🧠 Think of variables like **labeled boxes**. You can put something inside, and even swap it out later."
   ]
  },
  {
   "cell_type": "markdown",
   "id": "3532a0ec",
   "metadata": {
    "papermill": {
     "duration": 0.005985,
     "end_time": "2025-05-12T19:34:41.309455",
     "exception": false,
     "start_time": "2025-05-12T19:34:41.303470",
     "status": "completed"
    },
    "tags": []
   },
   "source": [
    "### 🔒 What is a Constant?\n",
    "\n",
    "A **constant** is a value that should **not change** once assigned. Python doesn’t enforce constants, but we **use ALL CAPS** to name them."
   ]
  },
  {
   "cell_type": "code",
   "execution_count": 6,
   "id": "050007cd",
   "metadata": {
    "execution": {
     "iopub.execute_input": "2025-05-12T19:34:41.322823Z",
     "iopub.status.busy": "2025-05-12T19:34:41.322510Z",
     "iopub.status.idle": "2025-05-12T19:34:41.327406Z",
     "shell.execute_reply": "2025-05-12T19:34:41.326440Z"
    },
    "papermill": {
     "duration": 0.013497,
     "end_time": "2025-05-12T19:34:41.328962",
     "exception": false,
     "start_time": "2025-05-12T19:34:41.315465",
     "status": "completed"
    },
    "tags": []
   },
   "outputs": [],
   "source": [
    "PI = 3.14159"
   ]
  },
  {
   "cell_type": "markdown",
   "id": "ae1c3c87",
   "metadata": {
    "papermill": {
     "duration": 0.005476,
     "end_time": "2025-05-12T19:34:41.340742",
     "exception": false,
     "start_time": "2025-05-12T19:34:41.335266",
     "status": "completed"
    },
    "tags": []
   },
   "source": [
    "> 📌 *\"In real life, PI doesn’t change. That’s why we treat it as a constant.\"*\n",
    "\n",
    "---"
   ]
  },
  {
   "cell_type": "code",
   "execution_count": 7,
   "id": "ea203e7c",
   "metadata": {
    "execution": {
     "iopub.execute_input": "2025-05-12T19:34:41.354027Z",
     "iopub.status.busy": "2025-05-12T19:34:41.353094Z",
     "iopub.status.idle": "2025-05-12T19:34:41.358046Z",
     "shell.execute_reply": "2025-05-12T19:34:41.357181Z"
    },
    "papermill": {
     "duration": 0.01306,
     "end_time": "2025-05-12T19:34:41.359558",
     "exception": false,
     "start_time": "2025-05-12T19:34:41.346498",
     "status": "completed"
    },
    "tags": []
   },
   "outputs": [
    {
     "name": "stdout",
     "output_type": "stream",
     "text": [
      "3.14159\n"
     ]
    }
   ],
   "source": [
    "print(PI)"
   ]
  },
  {
   "cell_type": "markdown",
   "id": "362662e7",
   "metadata": {
    "papermill": {
     "duration": 0.005604,
     "end_time": "2025-05-12T19:34:41.371001",
     "exception": false,
     "start_time": "2025-05-12T19:34:41.365397",
     "status": "completed"
    },
    "tags": []
   },
   "source": [
    "## 🔹 Part 4 – Local vs Global Variables (4 mins)\n",
    "\n",
    "### 🌍 Global Variables\n",
    "\n",
    "* Defined **outside** of any function.\n",
    "* Can be accessed anywhere in the file."
   ]
  },
  {
   "cell_type": "code",
   "execution_count": 8,
   "id": "4a1d72c5",
   "metadata": {
    "execution": {
     "iopub.execute_input": "2025-05-12T19:34:41.384048Z",
     "iopub.status.busy": "2025-05-12T19:34:41.383687Z",
     "iopub.status.idle": "2025-05-12T19:34:41.388840Z",
     "shell.execute_reply": "2025-05-12T19:34:41.387642Z"
    },
    "papermill": {
     "duration": 0.013816,
     "end_time": "2025-05-12T19:34:41.390500",
     "exception": false,
     "start_time": "2025-05-12T19:34:41.376684",
     "status": "completed"
    },
    "tags": []
   },
   "outputs": [],
   "source": [
    "global_message = \"Hello\"\n",
    "def greet():\n",
    "    print(global_message)  # Accessible here"
   ]
  },
  {
   "cell_type": "markdown",
   "id": "fbf6c5a0",
   "metadata": {
    "papermill": {
     "duration": 0.00566,
     "end_time": "2025-05-12T19:34:41.403073",
     "exception": false,
     "start_time": "2025-05-12T19:34:41.397413",
     "status": "completed"
    },
    "tags": []
   },
   "source": [
    "### 🧪 Local Variables\n",
    "\n",
    "* Defined **inside** a function.\n",
    "* Only work **inside** that function.\n"
   ]
  },
  {
   "cell_type": "code",
   "execution_count": 9,
   "id": "27cc7d56",
   "metadata": {
    "execution": {
     "iopub.execute_input": "2025-05-12T19:34:41.416150Z",
     "iopub.status.busy": "2025-05-12T19:34:41.415791Z",
     "iopub.status.idle": "2025-05-12T19:34:41.421232Z",
     "shell.execute_reply": "2025-05-12T19:34:41.420101Z"
    },
    "papermill": {
     "duration": 0.014007,
     "end_time": "2025-05-12T19:34:41.422791",
     "exception": false,
     "start_time": "2025-05-12T19:34:41.408784",
     "status": "completed"
    },
    "tags": []
   },
   "outputs": [
    {
     "name": "stdout",
     "output_type": "stream",
     "text": [
      "Alice\n"
     ]
    }
   ],
   "source": [
    "def say_hello():\n",
    "    name2 = \"Alice\"  # Local variable\n",
    "    print(name2)\n",
    "\n",
    "say_hello()\n",
    "# uncomment the below line and run the code block to see the error.\n",
    "# print(name2)  # ❌ Error: name2 is not defined"
   ]
  },
  {
   "cell_type": "markdown",
   "id": "59d47adb",
   "metadata": {
    "papermill": {
     "duration": 0.005912,
     "end_time": "2025-05-12T19:34:41.434918",
     "exception": false,
     "start_time": "2025-05-12T19:34:41.429006",
     "status": "completed"
    },
    "tags": []
   },
   "source": [
    "\n",
    "### ⚠️ To Modify a Global Variable\n",
    "\n",
    "Use the `global` keyword:\n"
   ]
  },
  {
   "cell_type": "code",
   "execution_count": 10,
   "id": "5a9c547b",
   "metadata": {
    "execution": {
     "iopub.execute_input": "2025-05-12T19:34:41.449361Z",
     "iopub.status.busy": "2025-05-12T19:34:41.448892Z",
     "iopub.status.idle": "2025-05-12T19:34:41.454521Z",
     "shell.execute_reply": "2025-05-12T19:34:41.453606Z"
    },
    "papermill": {
     "duration": 0.01504,
     "end_time": "2025-05-12T19:34:41.456200",
     "exception": false,
     "start_time": "2025-05-12T19:34:41.441160",
     "status": "completed"
    },
    "tags": []
   },
   "outputs": [],
   "source": [
    "count = 0\n",
    "\n",
    "def increase():\n",
    "    global count\n",
    "    count += 1"
   ]
  },
  {
   "cell_type": "code",
   "execution_count": 11,
   "id": "ee8f979f",
   "metadata": {
    "execution": {
     "iopub.execute_input": "2025-05-12T19:34:41.469717Z",
     "iopub.status.busy": "2025-05-12T19:34:41.469424Z",
     "iopub.status.idle": "2025-05-12T19:34:41.474076Z",
     "shell.execute_reply": "2025-05-12T19:34:41.473152Z"
    },
    "papermill": {
     "duration": 0.013471,
     "end_time": "2025-05-12T19:34:41.475908",
     "exception": false,
     "start_time": "2025-05-12T19:34:41.462437",
     "status": "completed"
    },
    "tags": []
   },
   "outputs": [
    {
     "name": "stdout",
     "output_type": "stream",
     "text": [
      "0\n",
      "1\n"
     ]
    }
   ],
   "source": [
    "print(count)\n",
    "increase()\n",
    "print(count)"
   ]
  },
  {
   "cell_type": "markdown",
   "id": "efc16503",
   "metadata": {
    "papermill": {
     "duration": 0.005723,
     "end_time": "2025-05-12T19:34:41.487708",
     "exception": false,
     "start_time": "2025-05-12T19:34:41.481985",
     "status": "completed"
    },
    "tags": []
   },
   "source": [
    "## Exercise 2: Function exercise\n",
    "\n",
    "### define a function named decrease() that do the exact opposite of increase() and run it till \"count\" reaches 0:"
   ]
  },
  {
   "cell_type": "code",
   "execution_count": 12,
   "id": "e4783b02",
   "metadata": {
    "execution": {
     "iopub.execute_input": "2025-05-12T19:34:41.501300Z",
     "iopub.status.busy": "2025-05-12T19:34:41.500947Z",
     "iopub.status.idle": "2025-05-12T19:34:41.505478Z",
     "shell.execute_reply": "2025-05-12T19:34:41.504263Z"
    },
    "papermill": {
     "duration": 0.013272,
     "end_time": "2025-05-12T19:34:41.507153",
     "exception": false,
     "start_time": "2025-05-12T19:34:41.493881",
     "status": "completed"
    },
    "tags": []
   },
   "outputs": [],
   "source": [
    "# write your code here"
   ]
  },
  {
   "cell_type": "markdown",
   "id": "82656b17",
   "metadata": {
    "papermill": {
     "duration": 0.005848,
     "end_time": "2025-05-12T19:34:41.519274",
     "exception": false,
     "start_time": "2025-05-12T19:34:41.513426",
     "status": "completed"
    },
    "tags": []
   },
   "source": [
    "> 🧠 *\"If you don’t use `global`, Python thinks you're creating a **new local variable**.\"*\n",
    "\n",
    "---"
   ]
  },
  {
   "cell_type": "markdown",
   "id": "9327f00c",
   "metadata": {
    "papermill": {
     "duration": 0.006044,
     "end_time": "2025-05-12T19:34:41.531317",
     "exception": false,
     "start_time": "2025-05-12T19:34:41.525273",
     "status": "completed"
    },
    "tags": []
   },
   "source": [
    "## 💻 Part 5 – Mini Live Coding Demo (2 mins)"
   ]
  },
  {
   "cell_type": "code",
   "execution_count": 13,
   "id": "a0c37694",
   "metadata": {
    "execution": {
     "iopub.execute_input": "2025-05-12T19:34:41.544698Z",
     "iopub.status.busy": "2025-05-12T19:34:41.544411Z",
     "iopub.status.idle": "2025-05-12T19:34:41.550305Z",
     "shell.execute_reply": "2025-05-12T19:34:41.549316Z"
    },
    "papermill": {
     "duration": 0.014487,
     "end_time": "2025-05-12T19:34:41.551811",
     "exception": false,
     "start_time": "2025-05-12T19:34:41.537324",
     "status": "completed"
    },
    "tags": []
   },
   "outputs": [
    {
     "name": "stdout",
     "output_type": "stream",
     "text": [
      "Sam\n",
      "90\n",
      "Well done!\n"
     ]
    }
   ],
   "source": [
    "PI = 3.14                  # Constant\n",
    "student_name = \"Sam\"      # String\n",
    "score = 90                # Integer\n",
    "passed = True             # Boolean\n",
    "\n",
    "def print_details():\n",
    "    message = \"Well done!\"   # Local variable\n",
    "    print(student_name)      # Global variable\n",
    "    print(score)\n",
    "    print(message)\n",
    "\n",
    "print_details()"
   ]
  },
  {
   "cell_type": "markdown",
   "id": "1f33322a",
   "metadata": {
    "papermill": {
     "duration": 0.005987,
     "end_time": "2025-05-12T19:34:41.564128",
     "exception": false,
     "start_time": "2025-05-12T19:34:41.558141",
     "status": "completed"
    },
    "tags": []
   },
   "source": [
    "## 💥 Part 6 - Extra exercise (Take home/ Lesson Assignment)\n",
    "\n",
    "🧪 Exercise: Print Numbers 1 to 5\n",
    "\n",
    "Write a Python for loop that prints numbers from 1 to 5 using a variable.\n",
    "\n",
    "You can google/use AI for this exercise"
   ]
  },
  {
   "cell_type": "code",
   "execution_count": 14,
   "id": "c9a2dca4",
   "metadata": {
    "execution": {
     "iopub.execute_input": "2025-05-12T19:34:41.577610Z",
     "iopub.status.busy": "2025-05-12T19:34:41.577258Z",
     "iopub.status.idle": "2025-05-12T19:34:41.581400Z",
     "shell.execute_reply": "2025-05-12T19:34:41.580493Z"
    },
    "papermill": {
     "duration": 0.01264,
     "end_time": "2025-05-12T19:34:41.582853",
     "exception": false,
     "start_time": "2025-05-12T19:34:41.570213",
     "status": "completed"
    },
    "tags": []
   },
   "outputs": [],
   "source": [
    "# Enter your code in this block"
   ]
  },
  {
   "cell_type": "markdown",
   "id": "ef9490f4",
   "metadata": {
    "papermill": {
     "duration": 0.005984,
     "end_time": "2025-05-12T19:34:41.595310",
     "exception": false,
     "start_time": "2025-05-12T19:34:41.589326",
     "status": "completed"
    },
    "tags": []
   },
   "source": [
    "\n",
    "\n",
    "\n",
    "\n",
    "## 🌟 Recap & Quiz (30 seconds)\n",
    "\n",
    "**Quick Quiz Questions:**\n",
    "\n",
    "1. What’s the difference between a constant and a variable?\n",
    "2. What happens if you try to access a local variable outside its function?\n",
    "3. Name 3 different data types.\n",
    "\n",
    "> 📚 **Final Tip**: *\"Whenever you write code, always think: **Where does this variable live?** and **What type of data is it holding?** These two questions will guide your debugging and help you write cleaner code.\"*"
   ]
  },
  {
   "cell_type": "markdown",
   "id": "7c955891",
   "metadata": {
    "papermill": {
     "duration": 0.00604,
     "end_time": "2025-05-12T19:34:41.607649",
     "exception": false,
     "start_time": "2025-05-12T19:34:41.601609",
     "status": "completed"
    },
    "tags": []
   },
   "source": [
    "## ⓘ Extra section/ Optional Material: C# references."
   ]
  },
  {
   "cell_type": "markdown",
   "id": "303912ad",
   "metadata": {
    "papermill": {
     "duration": 0.005923,
     "end_time": "2025-05-12T19:34:41.619631",
     "exception": false,
     "start_time": "2025-05-12T19:34:41.613708",
     "status": "completed"
    },
    "tags": []
   },
   "source": [
    "\n",
    "## 💻 Reference of Part 2: C# Data Types\n",
    "\n",
    "\n",
    "\n",
    "| Data Type | Example                       | Size                 | Description                                                                 |\n",
    "|-----------|-------------------------------|----------------------|-----------------------------------------------------------------------------|\n",
    "| int       | `int age = 18;`               | 4 bytes              | Stores whole numbers from -2,147,483,648 to 2,147,483,647                   |\n",
    "| long      | `long population = 8000000000;`| 8 bytes              | Stores whole numbers from -9,223,372,036,854,775,808 to 9,223,372,036,854,775,807 |\n",
    "| float     | `float pi = 3.14f;`           | 4 bytes              | Stores fractional numbers. Sufficient for storing 6 to 7 decimal digits     |\n",
    "| double    | `double price = 19.99;`       | 8 bytes              | Stores fractional numbers. Sufficient for storing 15 decimal digits         |\n",
    "| bool      | `bool passed = true;`         | 1 byte               | Stores true or false values                                                 |\n",
    "| char      | `char initial = 'T';`         | 2 bytes              | Stores a single character/letter, surrounded by single quotes               |\n",
    "| string    | `string name = \"Tom\";`        | 2 bytes per character| Stores a sequence of characters, surrounded by double quotes                |\n",
    "\n",
    "\n",
    "\n",
    "C# example\n",
    "\n",
    "```csharp\n",
    "\n",
    "using System;\n",
    "using System.Collections.Generic;\n",
    "using System.Linq;\n",
    "using System.Text.RegularExpressions;\n",
    "namespace HelloWorld\n",
    "{\n",
    "\tpublic class Program\n",
    "\t{\n",
    "\t\tpublic static void Main(string[] args)\n",
    "\t\t{\n",
    "\t\t\tstring name = \"Jake\";\n",
    "\t\t\tint grade = 85;\n",
    "\t\t\tfloat percentage = 85.5f;\n",
    "\t\t\tbool passed = true;\n",
    "\t\t\tchar initial = 'J';\n",
    "  \n",
    "            Console.WriteLine(name); // Console.WriteLine() is the print() function for C#\n",
    "            Console.WriteLine(grade);\n",
    "            Console.WriteLine(percentage);\n",
    "            Console.WriteLine(passed);\n",
    "            Console.WriteLine(initial);\n",
    "\t\t}\n",
    "\t}\n",
    "}\n",
    "```\n",
    "### output\n",
    "![image](https://github.com/user-attachments/assets/95ea4a89-0c95-4653-893e-0f6e9afd87f2)\n",
    "\n",
    "---"
   ]
  },
  {
   "attachments": {
    "0d8e9236-c011-4794-8df2-183346752c8b.png": {
     "image/png": "[encoded data removed]"
    },
    "d154d0e3-e4b0-48e6-b838-2cde9cae6ba3.png": {
     "image/png": "[encoded data removed]"
    }
   },
   "cell_type": "markdown",
   "id": "d1d5f87c",
   "metadata": {
    "papermill": {
     "duration": 0.005754,
     "end_time": "2025-05-12T19:34:41.631539",
     "exception": false,
     "start_time": "2025-05-12T19:34:41.625785",
     "status": "completed"
    },
    "tags": []
   },
   "source": [
    "## Reference of Part 3: C# Variable & Constant example\n",
    "\n",
    "```\n",
    "using System; // using a prebuilt library so the computer know how to run your code\n",
    "\n",
    "namespace MyApplication // Declaring the program so the computer know what to run.\n",
    "{\n",
    "  class Program // Declaring a class and your actual code\n",
    "  {\n",
    "    static void Main(string[] args)\n",
    "    {\n",
    "      string name = \"Tommy\";\n",
    "      Console.WriteLine(name);\n",
    "      name = \"Tom\"; // you don't need to declare the type to reassign the value again\n",
    "      Console.WriteLine(name);\n",
    "    }\n",
    "  }\n",
    "}\n",
    "```\n",
    "\n",
    "### Output: \n",
    "![image.png](attachment:0d8e9236-c011-4794-8df2-183346752c8b.png)"
   ]
  },
  {
   "attachments": {
    "55ca6251-5068-4bde-8d45-e525d3a29094.png": {
     "image/png": "[encoded data removed]"
    },
    "784fe281-d6ad-4735-8473-01eda8dd9fc4.png": {
     "image/png": "[encoded data removed]"
    },
    "9603df19-5866-4708-8548-de2a257fa7b4.png": {
     "image/png": "[encoded data removed]"
    }
   },
   "cell_type": "markdown",
   "id": "d83a278e",
   "metadata": {
    "papermill": {
     "duration": 0.006364,
     "end_time": "2025-05-12T19:34:41.643914",
     "exception": false,
     "start_time": "2025-05-12T19:34:41.637550",
     "status": "completed"
    },
    "tags": []
   },
   "source": [
    "### C# another variable example \n",
    "\n",
    "```\n",
    "using System;\n",
    "\n",
    "namespace MyApplication\n",
    "{\n",
    "  class Program\n",
    "  { \n",
    "    static void Main(string[] args)\n",
    "    {\n",
    "      string Constname = \"Tom3\"; //declaring Constname as const\n",
    "      Console.WriteLine(Constname);\n",
    "      Constname = 1 ;\n",
    "      Console.WriteLine(Constname);\n",
    "    }\n",
    "  }\n",
    "}\n",
    "\n",
    "```\n",
    "\n",
    "### output (different data type, hence the error)\n",
    "![image.png](attachment:9603df19-5866-4708-8548-de2a257fa7b4.png)\n",
    "\n",
    "### C# const example\n",
    "```\n",
    "using System;\n",
    "\n",
    "namespace MyApplication\n",
    "{\n",
    "  class Program\n",
    "  { \n",
    "    static void Main(string[] args)\n",
    "    {\n",
    "      const string Constname = \"Tom3\"; //declaring Constname as const\n",
    "      Console.WriteLine(Constname);\n",
    "      Constname = \"Tom2\";\n",
    "      Console.WriteLine(Constname);\n",
    "    }\n",
    "  }\n",
    "}\n",
    "```\n",
    "### output (throwing an error as we declared it Constname as Constant)\n",
    "![image.png](attachment:784fe281-d6ad-4735-8473-01eda8dd9fc4.png)\n"
   ]
  },
  {
   "cell_type": "markdown",
   "id": "bfaed3db",
   "metadata": {
    "papermill": {
     "duration": 0.006059,
     "end_time": "2025-05-12T19:34:41.656115",
     "exception": false,
     "start_time": "2025-05-12T19:34:41.650056",
     "status": "completed"
    },
    "tags": []
   },
   "source": [
    "## Reference of Part 4: C# Global and local example\n",
    "```\n",
    "using System;\n",
    "\n",
    "namespace MyApplication\n",
    "{\n",
    "  class Program\n",
    "  {\n",
    "    // 🌍 Global variable (class-level/static field)\n",
    "    static string globalMessage = \"Hello from global scope\";\n",
    "\n",
    "    static void Main(string[] args)\n",
    "    {\n",
    "      // 🧪 Local variable (only available in Main)\n",
    "      string localMessage = \"Hello from local scope\";\n",
    "\n",
    "      Console.WriteLine(globalMessage);  // ✅ Works\n",
    "      Console.WriteLine(localMessage);   // ✅ Works\n",
    "\n",
    "      PrintMessages();\n",
    "        //uncomment the line below and run it yourself to see if you can get my output\n",
    "      // Console.WriteLine(otherLocal);  // ❌ Error: does not exist in this context\n",
    "    }\n",
    "\n",
    "    static void PrintMessages()\n",
    "    {\n",
    "      Console.WriteLine(globalMessage);  // ✅ Can access global\n",
    "      string otherLocal = \"Local inside PrintMessages\";\n",
    "      Console.WriteLine(otherLocal);     // ✅ Works only here\n",
    "    }\n",
    "  }\n",
    "}\n",
    "```\n",
    "### output without the error line\n",
    "![image](https://github.com/user-attachments/assets/79d3824f-0075-414f-90e7-68e1172e2131)\n",
    "\n",
    "\n",
    "\n",
    "### output with the error line\n",
    "![image](https://github.com/user-attachments/assets/d5b2374d-259d-485f-9ae0-119ba7e6ccd4)"
   ]
  }
 ],
 "metadata": {
  "kaggle": {
   "accelerator": "none",
   "dataSources": [],
   "dockerImageVersionId": 31012,
   "isGpuEnabled": false,
   "isInternetEnabled": true,
   "language": "python",
   "sourceType": "notebook"
  },
  "kernelspec": {
   "display_name": "Python 3",
   "language": "python",
   "name": "python3"
  },
  "language_info": {
   "codemirror_mode": {
    "name": "ipython",
    "version": 3
   },
   "file_extension": ".py",
   "mimetype": "text/x-python",
   "name": "python",
   "nbconvert_exporter": "python",
   "pygments_lexer": "ipython3",
   "version": "3.11.11"
  },
  "papermill": {
   "default_parameters": {},
   "duration": 6.11151,
   "end_time": "2025-05-12T19:34:42.081968",
   "environment_variables": {},
   "exception": null,
   "input_path": "__notebook__.ipynb",
   "output_path": "__notebook__.ipynb",
   "parameters": {},
   "start_time": "2025-05-12T19:34:35.970458",
   "version": "2.6.0"
  }
 },
 "nbformat": 4,
 "nbformat_minor": 5
}
