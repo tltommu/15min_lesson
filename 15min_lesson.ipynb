{
 "cells": [
  {
   "cell_type": "markdown",
   "id": "e2fb6464",
   "metadata": {
    "papermill": {
     "duration": 0.006487,
     "end_time": "2025-05-05T18:03:41.263628",
     "exception": false,
     "start_time": "2025-05-05T18:03:41.257141",
     "status": "completed"
    },
    "tags": []
   },
   "source": [
    "## 📖 Part 0 - preface \n",
    "\n",
    "> \"There are two type of code block in this file, one is **markdown** and the other is **python**\"\n",
    "\n",
    "> \"The one that look fancier and doesn't have an execute button is **markdown**, it makes some information easier to read\"\n",
    "\n",
    ">\"The other one is **python** code block, it allows you to run python code.\""
   ]
  },
  {
   "cell_type": "markdown",
   "id": "b74d75aa",
   "metadata": {
    "papermill": {
     "duration": 0.005333,
     "end_time": "2025-05-05T18:03:41.274793",
     "exception": false,
     "start_time": "2025-05-05T18:03:41.269460",
     "status": "completed"
    },
    "tags": []
   },
   "source": [
    "## 🗣️ Part 1 – Introduction (1 min)\n",
    "\n",
    "> *\"Hi everyone! Today, we’re going to learn about something fundamental in programming — **variables, constants, and data types**. These are the building blocks for writing any program. Let's dive in!\"*\n",
    "\n"
   ]
  },
  {
   "cell_type": "markdown",
   "id": "b8f0ac51",
   "metadata": {
    "papermill": {
     "duration": 0.006589,
     "end_time": "2025-05-05T18:03:41.286774",
     "exception": false,
     "start_time": "2025-05-05T18:03:41.280185",
     "status": "completed"
    },
    "tags": []
   },
   "source": [
    "## 🔹 Part 2 – Data Types (5 mins)\n",
    "\n",
    "Python has several built-in data types. Here are five key ones:\n",
    "\n",
    "| Type      | Example         | Description                            |\n",
    "| --------- | --------------- | -------------------------------------- |\n",
    "| Integer   | `10`, `-3`      | Whole numbers                          |\n",
    "| Double/Float| `3.14`, `-2.5`  | Also called floats; decimal values     |\n",
    "| String    | `\"Hello\"`       | Sequence of characters                 |\n",
    "| Character | `'A'`           | A single letter (just a 1-char string) |\n",
    "| Boolean   | `True`, `False` | True/False values                      |"
   ]
  },
  {
   "cell_type": "code",
   "execution_count": 1,
   "id": "cada5f8c",
   "metadata": {
    "execution": {
     "iopub.execute_input": "2025-05-05T18:03:41.301760Z",
     "iopub.status.busy": "2025-05-05T18:03:41.301379Z",
     "iopub.status.idle": "2025-05-05T18:03:41.310904Z",
     "shell.execute_reply": "2025-05-05T18:03:41.309876Z"
    },
    "papermill": {
     "duration": 0.018605,
     "end_time": "2025-05-05T18:03:41.312685",
     "exception": false,
     "start_time": "2025-05-05T18:03:41.294080",
     "status": "completed"
    },
    "tags": []
   },
   "outputs": [],
   "source": [
    "# Everything behind a \"#\" is a comment, people leave it to make the code more understandable.\n",
    "\n",
    "name3 = \"Jake\"        # string\n",
    "grade = 85           # integer\n",
    "percentage = 85.5    # double (float)\n",
    "passed = True        # boolean\n",
    "initial = 'J'        # character"
   ]
  },
  {
   "cell_type": "code",
   "execution_count": 2,
   "id": "810d33ce",
   "metadata": {
    "execution": {
     "iopub.execute_input": "2025-05-05T18:03:41.325450Z",
     "iopub.status.busy": "2025-05-05T18:03:41.325117Z",
     "iopub.status.idle": "2025-05-05T18:03:41.331744Z",
     "shell.execute_reply": "2025-05-05T18:03:41.330534Z"
    },
    "papermill": {
     "duration": 0.014916,
     "end_time": "2025-05-05T18:03:41.333445",
     "exception": false,
     "start_time": "2025-05-05T18:03:41.318529",
     "status": "completed"
    },
    "tags": []
   },
   "outputs": [
    {
     "name": "stdout",
     "output_type": "stream",
     "text": [
      "Jake\n",
      "85\n",
      "85.5\n",
      "True\n",
      "J\n",
      "<class 'str'>\n",
      "<class 'int'>\n",
      "<class 'float'>\n",
      "<class 'bool'>\n",
      "<class 'str'>\n"
     ]
    }
   ],
   "source": [
    "print(name3) #print() is a function of python to produce an output.\n",
    "print(grade)\n",
    "print(percentage)\n",
    "print(passed)\n",
    "print(initial)\n",
    "\n",
    "print(type(name3)) # type() is a function that let you know the datatype of a variable.\n",
    "print(type(grade))\n",
    "print(type(percentage))\n",
    "print(type(passed))\n",
    "print(type(initial))"
   ]
  },
  {
   "cell_type": "markdown",
   "id": "7c6cbd2c",
   "metadata": {
    "papermill": {
     "duration": 0.005591,
     "end_time": "2025-05-05T18:03:41.344833",
     "exception": false,
     "start_time": "2025-05-05T18:03:41.339242",
     "status": "completed"
    },
    "tags": []
   },
   "source": [
    "> 💡 In Python, we don’t need to declare the type — it figures it out for us! (Why do people say python code is slow?)\n",
    "\n",
    "> For reference I have included how C# declare their datatypes.\n",
    "---"
   ]
  },
  {
   "cell_type": "markdown",
   "id": "90c06b0d",
   "metadata": {
    "papermill": {
     "duration": 0.00543,
     "end_time": "2025-05-05T18:03:41.355769",
     "exception": false,
     "start_time": "2025-05-05T18:03:41.350339",
     "status": "completed"
    },
    "tags": []
   },
   "source": [
    "\n",
    "### 💻 C# Data Types\n",
    "\n",
    "\n",
    "\n",
    "| Data Type | Example                       | Size                 | Description                                                                 |\n",
    "|-----------|-------------------------------|----------------------|-----------------------------------------------------------------------------|\n",
    "| int       | `int age = 18;`               | 4 bytes              | Stores whole numbers from -2,147,483,648 to 2,147,483,647                   |\n",
    "| long      | `long population = 8000000000;`| 8 bytes              | Stores whole numbers from -9,223,372,036,854,775,808 to 9,223,372,036,854,775,807 |\n",
    "| float     | `float pi = 3.14f;`           | 4 bytes              | Stores fractional numbers. Sufficient for storing 6 to 7 decimal digits     |\n",
    "| double    | `double price = 19.99;`       | 8 bytes              | Stores fractional numbers. Sufficient for storing 15 decimal digits         |\n",
    "| bool      | `bool passed = true;`         | 1 byte               | Stores true or false values                                                 |\n",
    "| char      | `char initial = 'T';`         | 2 bytes              | Stores a single character/letter, surrounded by single quotes               |\n",
    "| string    | `string name = \"Tom\";`        | 2 bytes per character| Stores a sequence of characters, surrounded by double quotes                |\n",
    "\n",
    "\n",
    "\n",
    "C# example\n",
    "\n",
    "```csharp\n",
    "\n",
    "using System;\n",
    "using System.Collections.Generic;\n",
    "using System.Linq;\n",
    "using System.Text.RegularExpressions;\n",
    "namespace HelloWorld\n",
    "{\n",
    "\tpublic class Program\n",
    "\t{\n",
    "\t\tpublic static void Main(string[] args)\n",
    "\t\t{\n",
    "\t\t\tstring name = \"Jake\";\n",
    "\t\t\tint grade = 85;\n",
    "\t\t\tfloat percentage = 85.5f;\n",
    "\t\t\tbool passed = true;\n",
    "\t\t\tchar initial = 'J';\n",
    "  \n",
    "            Console.WriteLine(name); // Console.WriteLine() is the print() function for C#\n",
    "            Console.WriteLine(grade);\n",
    "            Console.WriteLine(percentage);\n",
    "            Console.WriteLine(passed);\n",
    "            Console.WriteLine(initial);\n",
    "\t\t}\n",
    "\t}\n",
    "}\n",
    "```\n",
    "### output\n",
    "![image](https://github.com/user-attachments/assets/95ea4a89-0c95-4653-893e-0f6e9afd87f2)\n",
    "\n",
    "---"
   ]
  },
  {
   "cell_type": "markdown",
   "id": "5eaf95b3",
   "metadata": {
    "papermill": {
     "duration": 0.005417,
     "end_time": "2025-05-05T18:03:41.367242",
     "exception": false,
     "start_time": "2025-05-05T18:03:41.361825",
     "status": "completed"
    },
    "tags": []
   },
   "source": [
    "## 🔹 Part 3 – Constants & Variables (3 mins)\n",
    "\n",
    "### ✅ What is a Variable?\n",
    "\n",
    "A **variable** is a named storage for data. You can **change its value** later in the code."
   ]
  },
  {
   "cell_type": "code",
   "execution_count": 3,
   "id": "72b8566e",
   "metadata": {
    "execution": {
     "iopub.execute_input": "2025-05-05T18:03:41.379787Z",
     "iopub.status.busy": "2025-05-05T18:03:41.379278Z",
     "iopub.status.idle": "2025-05-05T18:03:41.384682Z",
     "shell.execute_reply": "2025-05-05T18:03:41.383765Z"
    },
    "papermill": {
     "duration": 0.013476,
     "end_time": "2025-05-05T18:03:41.386225",
     "exception": false,
     "start_time": "2025-05-05T18:03:41.372749",
     "status": "completed"
    },
    "tags": []
   },
   "outputs": [],
   "source": [
    "name = \"Tom\" # as mentioned above this is automatically declared as a string\n",
    "age = 17 # declared as an integer"
   ]
  },
  {
   "cell_type": "code",
   "execution_count": 4,
   "id": "fcb1818a",
   "metadata": {
    "execution": {
     "iopub.execute_input": "2025-05-05T18:03:41.399163Z",
     "iopub.status.busy": "2025-05-05T18:03:41.398833Z",
     "iopub.status.idle": "2025-05-05T18:03:41.403969Z",
     "shell.execute_reply": "2025-05-05T18:03:41.402738Z"
    },
    "papermill": {
     "duration": 0.013895,
     "end_time": "2025-05-05T18:03:41.405764",
     "exception": false,
     "start_time": "2025-05-05T18:03:41.391869",
     "status": "completed"
    },
    "tags": []
   },
   "outputs": [
    {
     "name": "stdout",
     "output_type": "stream",
     "text": [
      "Tom\n",
      "17\n"
     ]
    }
   ],
   "source": [
    "print(name)\n",
    "print(age)"
   ]
  },
  {
   "cell_type": "markdown",
   "id": "41cdc4ce",
   "metadata": {
    "papermill": {
     "duration": 0.006023,
     "end_time": "2025-05-05T18:03:41.417470",
     "exception": false,
     "start_time": "2025-05-05T18:03:41.411447",
     "status": "completed"
    },
    "tags": []
   },
   "source": [
    "## Exercise 1: Variable exercise\n",
    "\n",
    "### Change the value of \"name\" and \"age\" in the below code block and print it out"
   ]
  },
  {
   "cell_type": "code",
   "execution_count": 5,
   "id": "b2ba2ff6",
   "metadata": {
    "execution": {
     "iopub.execute_input": "2025-05-05T18:03:41.430866Z",
     "iopub.status.busy": "2025-05-05T18:03:41.430480Z",
     "iopub.status.idle": "2025-05-05T18:03:41.435084Z",
     "shell.execute_reply": "2025-05-05T18:03:41.434143Z"
    },
    "papermill": {
     "duration": 0.012936,
     "end_time": "2025-05-05T18:03:41.436835",
     "exception": false,
     "start_time": "2025-05-05T18:03:41.423899",
     "status": "completed"
    },
    "tags": []
   },
   "outputs": [],
   "source": [
    "# Write your code here"
   ]
  },
  {
   "attachments": {
    "d154d0e3-e4b0-48e6-b838-2cde9cae6ba3.png": {
     "image/png": "[encoded data removed]"
    }
   },
   "cell_type": "markdown",
   "id": "1626b008",
   "metadata": {
    "papermill": {
     "duration": 0.005318,
     "end_time": "2025-05-05T18:03:41.448009",
     "exception": false,
     "start_time": "2025-05-05T18:03:41.442691",
     "status": "completed"
    },
    "tags": []
   },
   "source": [
    "### C# code sample\n",
    "\n",
    "```\n",
    "using System; // using a prebuilt library so the computer know how to run your code\n",
    "\n",
    "namespace MyApplication // Declaring the program so the computer know what to run.\n",
    "{\n",
    "  class Program // Declaring a class and your actual code\n",
    "  {\n",
    "    static void Main(string[] args)\n",
    "    {\n",
    "      int age = 17;\n",
    "      string name = \"Tom\";\n",
    "      Console.WriteLine(age);\n",
    "      Console.WriteLine(name);\n",
    "    }\n",
    "  }\n",
    "}\n",
    "```\n",
    "\n",
    "### Output: \n",
    "![image.png](attachment:d154d0e3-e4b0-48e6-b838-2cde9cae6ba3.png)"
   ]
  },
  {
   "cell_type": "markdown",
   "id": "659650ff",
   "metadata": {
    "papermill": {
     "duration": 0.005298,
     "end_time": "2025-05-05T18:03:41.458709",
     "exception": false,
     "start_time": "2025-05-05T18:03:41.453411",
     "status": "completed"
    },
    "tags": []
   },
   "source": [
    "> 🧠 Think of variables like **labeled boxes**. You can put something inside, and even swap it out later."
   ]
  },
  {
   "cell_type": "markdown",
   "id": "ea0fd973",
   "metadata": {
    "papermill": {
     "duration": 0.005302,
     "end_time": "2025-05-05T18:03:41.469455",
     "exception": false,
     "start_time": "2025-05-05T18:03:41.464153",
     "status": "completed"
    },
    "tags": []
   },
   "source": [
    "### 🔒 What is a Constant?\n",
    "\n",
    "A **constant** is a value that should **not change** once assigned. Python doesn’t enforce constants, but we **use ALL CAPS** to name them."
   ]
  },
  {
   "cell_type": "code",
   "execution_count": 6,
   "id": "81a3672b",
   "metadata": {
    "execution": {
     "iopub.execute_input": "2025-05-05T18:03:41.482580Z",
     "iopub.status.busy": "2025-05-05T18:03:41.482290Z",
     "iopub.status.idle": "2025-05-05T18:03:41.486771Z",
     "shell.execute_reply": "2025-05-05T18:03:41.485696Z"
    },
    "papermill": {
     "duration": 0.012833,
     "end_time": "2025-05-05T18:03:41.488257",
     "exception": false,
     "start_time": "2025-05-05T18:03:41.475424",
     "status": "completed"
    },
    "tags": []
   },
   "outputs": [],
   "source": [
    "PI = 3.14159"
   ]
  },
  {
   "cell_type": "markdown",
   "id": "3c8d393a",
   "metadata": {
    "papermill": {
     "duration": 0.005318,
     "end_time": "2025-05-05T18:03:41.499594",
     "exception": false,
     "start_time": "2025-05-05T18:03:41.494276",
     "status": "completed"
    },
    "tags": []
   },
   "source": [
    "> 📌 *\"In real life, PI doesn’t change. That’s why we treat it as a constant.\"*\n",
    "\n",
    "---"
   ]
  },
  {
   "cell_type": "code",
   "execution_count": 7,
   "id": "4999a43a",
   "metadata": {
    "execution": {
     "iopub.execute_input": "2025-05-05T18:03:41.512000Z",
     "iopub.status.busy": "2025-05-05T18:03:41.511566Z",
     "iopub.status.idle": "2025-05-05T18:03:41.516706Z",
     "shell.execute_reply": "2025-05-05T18:03:41.515630Z"
    },
    "papermill": {
     "duration": 0.013297,
     "end_time": "2025-05-05T18:03:41.518324",
     "exception": false,
     "start_time": "2025-05-05T18:03:41.505027",
     "status": "completed"
    },
    "tags": []
   },
   "outputs": [
    {
     "name": "stdout",
     "output_type": "stream",
     "text": [
      "3.14159\n"
     ]
    }
   ],
   "source": [
    "print(PI)"
   ]
  },
  {
   "attachments": {
    "55ca6251-5068-4bde-8d45-e525d3a29094.png": {
     "image/png": "[encoded data removed]"
    },
    "784fe281-d6ad-4735-8473-01eda8dd9fc4.png": {
     "image/png": "[encoded data removed]"
    }
   },
   "cell_type": "markdown",
   "id": "272049c5",
   "metadata": {
    "papermill": {
     "duration": 0.005527,
     "end_time": "2025-05-05T18:03:41.529841",
     "exception": false,
     "start_time": "2025-05-05T18:03:41.524314",
     "status": "completed"
    },
    "tags": []
   },
   "source": [
    "### C# another variable example \n",
    "\n",
    "```\n",
    "using System;\n",
    "\n",
    "namespace MyApplication\n",
    "{\n",
    "  class Program\n",
    "  { \n",
    "    static void Main(string[] args)\n",
    "    {\n",
    "      string name = \"Tom3\"; //declaring name as variable\n",
    "      Console.WriteLine(name);\n",
    "      name = \"Tom2\";\n",
    "      Console.WriteLine(name);\n",
    "    }\n",
    "  }\n",
    "}\n",
    "\n",
    "```\n",
    "\n",
    "### output (hence the output can change)\n",
    "![image.png](attachment:55ca6251-5068-4bde-8d45-e525d3a29094.png)\n",
    "\n",
    "### C# const example\n",
    "```\n",
    "using System;\n",
    "\n",
    "namespace MyApplication\n",
    "{\n",
    "  class Program\n",
    "  { \n",
    "    static void Main(string[] args)\n",
    "    {\n",
    "      Const string Constname = \"Tom3\"; //declaring Constname as const\n",
    "      Console.WriteLine(Constname);\n",
    "      Constname = \"Tom2\";\n",
    "      Console.WriteLine(Constname);\n",
    "    }\n",
    "  }\n",
    "}\n",
    "```\n",
    "### output (throwing an error as we declared it Constname as Constant)\n",
    "![image.png](attachment:784fe281-d6ad-4735-8473-01eda8dd9fc4.png)\n"
   ]
  },
  {
   "cell_type": "markdown",
   "id": "a5b85ba6",
   "metadata": {
    "papermill": {
     "duration": 0.005544,
     "end_time": "2025-05-05T18:03:41.541611",
     "exception": false,
     "start_time": "2025-05-05T18:03:41.536067",
     "status": "completed"
    },
    "tags": []
   },
   "source": [
    "## 🔹 Part 4 – Local vs Global Variables (4 mins)\n",
    "\n",
    "### 🌍 Global Variables\n",
    "\n",
    "* Defined **outside** of any function.\n",
    "* Can be accessed anywhere in the file."
   ]
  },
  {
   "cell_type": "code",
   "execution_count": 8,
   "id": "169ffbf0",
   "metadata": {
    "execution": {
     "iopub.execute_input": "2025-05-05T18:03:41.555833Z",
     "iopub.status.busy": "2025-05-05T18:03:41.554894Z",
     "iopub.status.idle": "2025-05-05T18:03:41.560423Z",
     "shell.execute_reply": "2025-05-05T18:03:41.559441Z"
    },
    "papermill": {
     "duration": 0.01475,
     "end_time": "2025-05-05T18:03:41.562184",
     "exception": false,
     "start_time": "2025-05-05T18:03:41.547434",
     "status": "completed"
    },
    "tags": []
   },
   "outputs": [],
   "source": [
    "global_message = \"Hello\"\n",
    "def greet():\n",
    "    print(global_message)  # Accessible here"
   ]
  },
  {
   "cell_type": "markdown",
   "id": "7286eaf5",
   "metadata": {
    "papermill": {
     "duration": 0.00535,
     "end_time": "2025-05-05T18:03:41.573430",
     "exception": false,
     "start_time": "2025-05-05T18:03:41.568080",
     "status": "completed"
    },
    "tags": []
   },
   "source": [
    "### 🧪 Local Variables\n",
    "\n",
    "* Defined **inside** a function.\n",
    "* Only work **inside** that function.\n"
   ]
  },
  {
   "cell_type": "code",
   "execution_count": 9,
   "id": "f91fa1ce",
   "metadata": {
    "execution": {
     "iopub.execute_input": "2025-05-05T18:03:41.585984Z",
     "iopub.status.busy": "2025-05-05T18:03:41.585531Z",
     "iopub.status.idle": "2025-05-05T18:03:41.590941Z",
     "shell.execute_reply": "2025-05-05T18:03:41.589847Z"
    },
    "papermill": {
     "duration": 0.013564,
     "end_time": "2025-05-05T18:03:41.592547",
     "exception": false,
     "start_time": "2025-05-05T18:03:41.578983",
     "status": "completed"
    },
    "tags": []
   },
   "outputs": [
    {
     "name": "stdout",
     "output_type": "stream",
     "text": [
      "Alice\n"
     ]
    }
   ],
   "source": [
    "def say_hello():\n",
    "    name2 = \"Alice\"  # Local variable\n",
    "    print(name2)\n",
    "\n",
    "say_hello()\n",
    "# uncomment the below line and run the code block to see the error.\n",
    "# print(name2)  # ❌ Error: name2 is not defined"
   ]
  },
  {
   "cell_type": "markdown",
   "id": "f428755a",
   "metadata": {
    "papermill": {
     "duration": 0.005743,
     "end_time": "2025-05-05T18:03:41.604131",
     "exception": false,
     "start_time": "2025-05-05T18:03:41.598388",
     "status": "completed"
    },
    "tags": []
   },
   "source": [
    "\n",
    "### ⚠️ To Modify a Global Variable\n",
    "\n",
    "Use the `global` keyword:\n"
   ]
  },
  {
   "cell_type": "code",
   "execution_count": 10,
   "id": "de009e6b",
   "metadata": {
    "execution": {
     "iopub.execute_input": "2025-05-05T18:03:41.617749Z",
     "iopub.status.busy": "2025-05-05T18:03:41.616552Z",
     "iopub.status.idle": "2025-05-05T18:03:41.621494Z",
     "shell.execute_reply": "2025-05-05T18:03:41.620529Z"
    },
    "papermill": {
     "duration": 0.013517,
     "end_time": "2025-05-05T18:03:41.623335",
     "exception": false,
     "start_time": "2025-05-05T18:03:41.609818",
     "status": "completed"
    },
    "tags": []
   },
   "outputs": [],
   "source": [
    "count = 0\n",
    "\n",
    "def increase():\n",
    "    global count\n",
    "    count += 1"
   ]
  },
  {
   "cell_type": "code",
   "execution_count": 11,
   "id": "dfd264f9",
   "metadata": {
    "execution": {
     "iopub.execute_input": "2025-05-05T18:03:41.636357Z",
     "iopub.status.busy": "2025-05-05T18:03:41.636063Z",
     "iopub.status.idle": "2025-05-05T18:03:41.641259Z",
     "shell.execute_reply": "2025-05-05T18:03:41.640223Z"
    },
    "papermill": {
     "duration": 0.013672,
     "end_time": "2025-05-05T18:03:41.643041",
     "exception": false,
     "start_time": "2025-05-05T18:03:41.629369",
     "status": "completed"
    },
    "tags": []
   },
   "outputs": [
    {
     "name": "stdout",
     "output_type": "stream",
     "text": [
      "0\n",
      "1\n"
     ]
    }
   ],
   "source": [
    "print(count)\n",
    "increase()\n",
    "print(count)"
   ]
  },
  {
   "cell_type": "markdown",
   "id": "c8ed3cb6",
   "metadata": {
    "papermill": {
     "duration": 0.00553,
     "end_time": "2025-05-05T18:03:41.654663",
     "exception": false,
     "start_time": "2025-05-05T18:03:41.649133",
     "status": "completed"
    },
    "tags": []
   },
   "source": [
    "## Exercise 2: Function exercise\n",
    "\n",
    "### define a function named decrease() that do the exact opposite of increase() and run it till \"count\" reaches 0:"
   ]
  },
  {
   "cell_type": "code",
   "execution_count": 12,
   "id": "a72ae3b7",
   "metadata": {
    "execution": {
     "iopub.execute_input": "2025-05-05T18:03:41.667319Z",
     "iopub.status.busy": "2025-05-05T18:03:41.667028Z",
     "iopub.status.idle": "2025-05-05T18:03:41.671901Z",
     "shell.execute_reply": "2025-05-05T18:03:41.670886Z"
    },
    "papermill": {
     "duration": 0.013279,
     "end_time": "2025-05-05T18:03:41.673631",
     "exception": false,
     "start_time": "2025-05-05T18:03:41.660352",
     "status": "completed"
    },
    "tags": []
   },
   "outputs": [],
   "source": [
    "# write your code here"
   ]
  },
  {
   "cell_type": "markdown",
   "id": "9c007e7f",
   "metadata": {
    "papermill": {
     "duration": 0.005722,
     "end_time": "2025-05-05T18:03:41.685857",
     "exception": false,
     "start_time": "2025-05-05T18:03:41.680135",
     "status": "completed"
    },
    "tags": []
   },
   "source": [
    "> 🧠 *\"If you don’t use `global`, Python thinks you're creating a **new local variable**.\"*\n",
    "\n",
    "---"
   ]
  },
  {
   "cell_type": "markdown",
   "id": "8669afa1",
   "metadata": {
    "papermill": {
     "duration": 0.005547,
     "end_time": "2025-05-05T18:03:41.697133",
     "exception": false,
     "start_time": "2025-05-05T18:03:41.691586",
     "status": "completed"
    },
    "tags": []
   },
   "source": [
    "### C# Global and local example\n",
    "```\n",
    "using System;\n",
    "\n",
    "namespace MyApplication\n",
    "{\n",
    "  class Program\n",
    "  {\n",
    "    // 🌍 Global variable (class-level/static field)\n",
    "    static string globalMessage = \"Hello from global scope\";\n",
    "\n",
    "    static void Main(string[] args)\n",
    "    {\n",
    "      // 🧪 Local variable (only available in Main)\n",
    "      string localMessage = \"Hello from local scope\";\n",
    "\n",
    "      Console.WriteLine(globalMessage);  // ✅ Works\n",
    "      Console.WriteLine(localMessage);   // ✅ Works\n",
    "\n",
    "      PrintMessages();\n",
    "        //uncomment the line below and run it yourself to see if you can get my output\n",
    "      // Console.WriteLine(otherLocal);  // ❌ Error: does not exist in this context\n",
    "    }\n",
    "\n",
    "    static void PrintMessages()\n",
    "    {\n",
    "      Console.WriteLine(globalMessage);  // ✅ Can access global\n",
    "      string otherLocal = \"Local inside PrintMessages\";\n",
    "      Console.WriteLine(otherLocal);     // ✅ Works only here\n",
    "    }\n",
    "  }\n",
    "}\n",
    "```\n",
    "### output without the error line\n",
    "![image](https://github.com/user-attachments/assets/79d3824f-0075-414f-90e7-68e1172e2131)\n",
    "\n",
    "\n",
    "\n",
    "### output with the error line\n",
    "![image](https://github.com/user-attachments/assets/d5b2374d-259d-485f-9ae0-119ba7e6ccd4)"
   ]
  },
  {
   "cell_type": "markdown",
   "id": "b6415967",
   "metadata": {
    "papermill": {
     "duration": 0.005679,
     "end_time": "2025-05-05T18:03:41.709787",
     "exception": false,
     "start_time": "2025-05-05T18:03:41.704108",
     "status": "completed"
    },
    "tags": []
   },
   "source": [
    "## 💻 Part 5 – Mini Live Coding Demo (2 mins)"
   ]
  },
  {
   "cell_type": "code",
   "execution_count": 13,
   "id": "e7ddf288",
   "metadata": {
    "execution": {
     "iopub.execute_input": "2025-05-05T18:03:41.723386Z",
     "iopub.status.busy": "2025-05-05T18:03:41.723098Z",
     "iopub.status.idle": "2025-05-05T18:03:41.729110Z",
     "shell.execute_reply": "2025-05-05T18:03:41.728042Z"
    },
    "papermill": {
     "duration": 0.014568,
     "end_time": "2025-05-05T18:03:41.730669",
     "exception": false,
     "start_time": "2025-05-05T18:03:41.716101",
     "status": "completed"
    },
    "tags": []
   },
   "outputs": [
    {
     "name": "stdout",
     "output_type": "stream",
     "text": [
      "Sam\n",
      "90\n",
      "Well done!\n"
     ]
    }
   ],
   "source": [
    "PI = 3.14                  # Constant\n",
    "student_name = \"Sam\"      # String\n",
    "score = 90                # Integer\n",
    "passed = True             # Boolean\n",
    "\n",
    "def print_details():\n",
    "    message = \"Well done!\"   # Local variable\n",
    "    print(student_name)      # Global variable\n",
    "    print(score)\n",
    "    print(message)\n",
    "\n",
    "print_details()"
   ]
  },
  {
   "cell_type": "markdown",
   "id": "24667914",
   "metadata": {
    "papermill": {
     "duration": 0.005736,
     "end_time": "2025-05-05T18:03:41.742918",
     "exception": false,
     "start_time": "2025-05-05T18:03:41.737182",
     "status": "completed"
    },
    "tags": []
   },
   "source": [
    "## 💥 Part 6 - Extra exercise (Take home/ Lesson Assignment)\n",
    "\n",
    "🧪 Exercise: Print Numbers 1 to 5\n",
    "\n",
    "Write a Python for loop that prints numbers from 1 to 5 using a variable.\n",
    "\n",
    "You can google/use AI for this exercise"
   ]
  },
  {
   "cell_type": "code",
   "execution_count": 14,
   "id": "3e150261",
   "metadata": {
    "execution": {
     "iopub.execute_input": "2025-05-05T18:03:41.755816Z",
     "iopub.status.busy": "2025-05-05T18:03:41.755477Z",
     "iopub.status.idle": "2025-05-05T18:03:41.760025Z",
     "shell.execute_reply": "2025-05-05T18:03:41.758870Z"
    },
    "papermill": {
     "duration": 0.012952,
     "end_time": "2025-05-05T18:03:41.761736",
     "exception": false,
     "start_time": "2025-05-05T18:03:41.748784",
     "status": "completed"
    },
    "tags": []
   },
   "outputs": [],
   "source": [
    "# Enter your code in this block"
   ]
  },
  {
   "cell_type": "markdown",
   "id": "859b06c4",
   "metadata": {
    "papermill": {
     "duration": 0.005638,
     "end_time": "2025-05-05T18:03:41.773922",
     "exception": false,
     "start_time": "2025-05-05T18:03:41.768284",
     "status": "completed"
    },
    "tags": []
   },
   "source": [
    "\n",
    "\n",
    "\n",
    "\n",
    "## 🌟 Recap & Quiz (30 seconds)\n",
    "\n",
    "**Quick Quiz Questions:**\n",
    "\n",
    "1. What’s the difference between a constant and a variable?\n",
    "2. What happens if you try to access a local variable outside its function?\n",
    "3. Name 3 different data types.\n",
    "\n",
    "> 📚 **Final Tip**: *\"Whenever you write code, always think: **Where does this variable live?** and **What type of data is it holding?** These two questions will guide your debugging and help you write cleaner code.\"*"
   ]
  }
 ],
 "metadata": {
  "kaggle": {
   "accelerator": "none",
   "dataSources": [],
   "dockerImageVersionId": 31012,
   "isGpuEnabled": false,
   "isInternetEnabled": true,
   "language": "python",
   "sourceType": "notebook"
  },
  "kernelspec": {
   "display_name": "Python 3",
   "language": "python",
   "name": "python3"
  },
  "language_info": {
   "codemirror_mode": {
    "name": "ipython",
    "version": 3
   },
   "file_extension": ".py",
   "mimetype": "text/x-python",
   "name": "python",
   "nbconvert_exporter": "python",
   "pygments_lexer": "ipython3",
   "version": "3.11.11"
  },
  "papermill": {
   "default_parameters": {},
   "duration": 5.883701,
   "end_time": "2025-05-05T18:03:42.199717",
   "environment_variables": {},
   "exception": null,
   "input_path": "__notebook__.ipynb",
   "output_path": "__notebook__.ipynb",
   "parameters": {},
   "start_time": "2025-05-05T18:03:36.316016",
   "version": "2.6.0"
  }
 },
 "nbformat": 4,
 "nbformat_minor": 5
}
